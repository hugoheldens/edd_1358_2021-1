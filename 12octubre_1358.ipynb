{
  "nbformat": 4,
  "nbformat_minor": 0,
  "metadata": {
    "colab": {
      "name": "12octubre_1358.ipynb",
      "provenance": [],
      "authorship_tag": "ABX9TyM/+ZQTu4RTorwZcy9x/ny8",
      "include_colab_link": true
    },
    "kernelspec": {
      "name": "python3",
      "display_name": "Python 3"
    }
  },
  "cells": [
    {
      "cell_type": "markdown",
      "metadata": {
        "id": "view-in-github",
        "colab_type": "text"
      },
      "source": [
        "<a href=\"https://colab.research.google.com/github/hugoheldens/edd_1358_2021-1/blob/master/12octubre_1358.ipynb\" target=\"_parent\"><img src=\"https://colab.research.google.com/assets/colab-badge.svg\" alt=\"Open In Colab\"/></a>"
      ]
    },
    {
      "cell_type": "code",
      "metadata": {
        "id": "4mu7laK5WFTg",
        "outputId": "7e6c1a86-5df7-4dbf-be29-0b2009d85e8f",
        "colab": {
          "base_uri": "https://localhost:8080/",
          "height": 105
        }
      },
      "source": [
        "#diccionarios (continuacion)\n",
        "cliente_banco = { \n",
        "    \"id\": 1,\n",
        "    \"nombres\" :[\"Juan\", \"Antonio\"],\n",
        "    \"paterno\":\"Garcia\",\n",
        "    \"materno\": \"Perez\",\n",
        "    \"telefonos\":{\n",
        "        \"casa \":5526419613,\n",
        "        \"celular\":5512784563,\n",
        "        \"trabajo\":556622331\n",
        "\n",
        "        },\n",
        "      \"activo\": True,\n",
        "      \"balance\": 234567.89,\n",
        "      \"tarjetas\":({\"tipo\":\"debito\",\"saldo\":12000},\n",
        "                  {\"tipo\":\"credito\",\"saldo\":3500.0},\n",
        "                  {\"tipo\": \"credito\",\"nivel\":\"oro\",\"saldo\":50000})\n",
        "      \n",
        "    \n",
        "\n",
        "}\n",
        "print(cliente_banco)\n",
        "#cliente_banco[\"balance\" ] =cliente_banco[\"balance\"] -1000.89\n",
        "cliente_banco[\"balance\"] -= 1000.89\n",
        "print(cliente_banco)\n",
        "cliente_banco[\"direccion\"]= {\"calle\":\"rancho seco\",\"num\":23}\n",
        "print(cliente_banco)\n",
        "cliente_banco.pop(\"tarjetas\")\n",
        "print(cliente_banco)"
      ],
      "execution_count": 10,
      "outputs": [
        {
          "output_type": "stream",
          "text": [
            "{'id': 1, 'nombres': ['Juan', 'Antonio'], 'paterno': 'Garcia', 'materno': 'Perez', 'telefonos': {'casa ': 5526419613, 'celular': 5512784563, 'trabajo': 556622331}, 'activo': True, 'balance': 234567.89, 'tarjetas': ({'tipo': 'debito', 'saldo': 12000}, {'tipo': 'credito', 'saldo': 3500.0}, {'tipo': 'credito', 'nivel': 'oro', 'saldo': 50000})}\n",
            "{'id': 1, 'nombres': ['Juan', 'Antonio'], 'paterno': 'Garcia', 'materno': 'Perez', 'telefonos': {'casa ': 5526419613, 'celular': 5512784563, 'trabajo': 556622331}, 'activo': True, 'balance': 233567.0, 'tarjetas': ({'tipo': 'debito', 'saldo': 12000}, {'tipo': 'credito', 'saldo': 3500.0}, {'tipo': 'credito', 'nivel': 'oro', 'saldo': 50000})}\n",
            "{'id': 1, 'nombres': ['Juan', 'Antonio'], 'paterno': 'Garcia', 'materno': 'Perez', 'telefonos': {'casa ': 5526419613, 'celular': 5512784563, 'trabajo': 556622331}, 'activo': True, 'balance': 233567.0, 'tarjetas': ({'tipo': 'debito', 'saldo': 12000}, {'tipo': 'credito', 'saldo': 3500.0}, {'tipo': 'credito', 'nivel': 'oro', 'saldo': 50000}), 'direccion': {'calle': 'rancho seco', 'num': 23}}\n",
            "{'id': 1, 'nombres': ['Juan', 'Antonio'], 'paterno': 'Garcia', 'materno': 'Perez', 'telefonos': {'casa ': 5526419613, 'celular': 5512784563, 'trabajo': 556622331}, 'activo': True, 'balance': 233567.0, 'direccion': {'calle': 'rancho seco', 'num': 23}}\n"
          ],
          "name": "stdout"
        }
      ]
    },
    {
      "cell_type": "code",
      "metadata": {
        "id": "vqaQtUKkcbbS",
        "outputId": "91adaf92-7ee0-42fe-8a0d-023a83917ce6",
        "colab": {
          "base_uri": "https://localhost:8080/",
          "height": 496
        }
      },
      "source": [
        "llaves = cliente_banco.keys()\n",
        "print(llaves)\n",
        "print(type(llaves))\n",
        "for x in llaves:\n",
        "  print(x)\n",
        "  \n",
        "valores = cliente_banco.values()\n",
        "for v in valores:\n",
        "  print(v)\n",
        "\n",
        "pares= cliente_banco.items()\n",
        "print(pares)\n",
        "\n",
        "for elem in pares:\n",
        "  print(f\" {elem[0]} = {elem[1]} \")\n",
        "\n"
      ],
      "execution_count": 20,
      "outputs": [
        {
          "output_type": "stream",
          "text": [
            "dict_keys(['id', 'nombres', 'paterno', 'materno', 'telefonos', 'activo', 'balance', 'direccion'])\n",
            "<class 'dict_keys'>\n",
            "id\n",
            "nombres\n",
            "paterno\n",
            "materno\n",
            "telefonos\n",
            "activo\n",
            "balance\n",
            "direccion\n",
            "1\n",
            "['Juan', 'Antonio']\n",
            "Garcia\n",
            "Perez\n",
            "{'casa ': 5526419613, 'celular': 5512784563, 'trabajo': 556622331}\n",
            "True\n",
            "233567.0\n",
            "{'calle': 'rancho seco', 'num': 23}\n",
            "dict_items([('id', 1), ('nombres', ['Juan', 'Antonio']), ('paterno', 'Garcia'), ('materno', 'Perez'), ('telefonos', {'casa ': 5526419613, 'celular': 5512784563, 'trabajo': 556622331}), ('activo', True), ('balance', 233567.0), ('direccion', {'calle': 'rancho seco', 'num': 23})])\n",
            " id = 1 \n",
            " nombres = ['Juan', 'Antonio'] \n",
            " paterno = Garcia \n",
            " materno = Perez \n",
            " telefonos = {'casa ': 5526419613, 'celular': 5512784563, 'trabajo': 556622331} \n",
            " activo = True \n",
            " balance = 233567.0 \n",
            " direccion = {'calle': 'rancho seco', 'num': 23} \n"
          ],
          "name": "stdout"
        }
      ]
    },
    {
      "cell_type": "code",
      "metadata": {
        "id": "7XKQvojug4ta",
        "outputId": "2aeb0415-b35c-4c3d-ab40-f2a610a9a53d",
        "colab": {
          "base_uri": "https://localhost:8080/",
          "height": 34
        }
      },
      "source": [
        "frutas = {\"nombre\":\"manzana\",\"color\":\"rojo\",\"estado\":\"chihuahua\"}\n",
        "otras_caracteristicas= {\"vitamina\":\"D\"}\n",
        "frutas.update(otras_caracteristicas)\n",
        "print(frutas)\n"
      ],
      "execution_count": 22,
      "outputs": [
        {
          "output_type": "stream",
          "text": [
            "{'nombre': 'manzana', 'color': 'rojo', 'estado': 'chihuahua', 'vitamina': 'D'}\n"
          ],
          "name": "stdout"
        }
      ]
    },
    {
      "cell_type": "markdown",
      "metadata": {
        "id": "x15lRm0hiQa5"
      },
      "source": [
        "#Funciones\n",
        "- recibe de 0 a n argumentos de entrada \n",
        "-regresa solo un valore, aunque ese valor \n",
        "sea none .\n",
        "-tiene un nombre unico en el contexto.\n",
        "-se pueden hacer solo dos cosas con funciones:\n",
        "          - definirla \n",
        "          -llamarla\n",
        "          "
      ]
    },
    {
      "cell_type": "code",
      "metadata": {
        "id": "Gdnc6siEi99-",
        "outputId": "19c4605f-881d-4122-e529-ac92810ec8a1",
        "colab": {
          "base_uri": "https://localhost:8080/",
          "height": 51
        }
      },
      "source": [
        "def suma(a,b):\n",
        "    return a+b\n",
        "\n",
        "def saludar():\n",
        "    print(\"Hola, como estas? \")\n",
        "    return None\n",
        "x = 10\n",
        "y = 20\n",
        "c = suma(x,y)\n",
        "print(c)\n",
        "saludar()"
      ],
      "execution_count": 25,
      "outputs": [
        {
          "output_type": "stream",
          "text": [
            "30\n",
            "Hola, como estas? \n"
          ],
          "name": "stdout"
        }
      ]
    },
    {
      "cell_type": "markdown",
      "metadata": {
        "id": "loHZ5knAksQ0"
      },
      "source": [
        "#None y las funciones \n",
        "Aprovechar el uso de none en paso de parametros "
      ]
    },
    {
      "cell_type": "code",
      "metadata": {
        "id": "RB68oIDSk4vR",
        "outputId": "d11bf0aa-c3c0-474e-97a9-b52ca520f76f",
        "colab": {
          "base_uri": "https://localhost:8080/",
          "height": 51
        }
      },
      "source": [
        "def calcular(base  , veces ):\n",
        "    if base != None:\n",
        "        resultado = base * veces\n",
        "    else:\n",
        "        resultado = \"desconocido\"\n",
        "    return resultado\n",
        "\n",
        "print(calcular(4,3))\n",
        "print(calcular(None,3))"
      ],
      "execution_count": 36,
      "outputs": [
        {
          "output_type": "stream",
          "text": [
            "12\n",
            "desconocido\n"
          ],
          "name": "stdout"
        }
      ]
    }
  ]
}