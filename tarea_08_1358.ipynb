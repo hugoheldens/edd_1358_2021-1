{
  "nbformat": 4,
  "nbformat_minor": 0,
  "metadata": {
    "colab": {
      "name": "tarea_08_1358.ipynb",
      "provenance": [],
      "authorship_tag": "ABX9TyNtiY9uwni0OHgu0TsnfX0X",
      "include_colab_link": true
    },
    "kernelspec": {
      "name": "python3",
      "display_name": "Python 3"
    }
  },
  "cells": [
    {
      "cell_type": "markdown",
      "metadata": {
        "id": "view-in-github",
        "colab_type": "text"
      },
      "source": [
        "<a href=\"https://colab.research.google.com/github/hugoheldens/edd_1358_2021-1/blob/master/tarea_08_1358.ipynb\" target=\"_parent\"><img src=\"https://colab.research.google.com/assets/colab-badge.svg\" alt=\"Open In Colab\"/></a>"
      ]
    },
    {
      "cell_type": "code",
      "metadata": {
        "id": "sOQ9qIuhpOd_"
      },
      "source": [
        "class Queue:\r\n",
        "    def __init__( self ):\r\n",
        "        self.__data = list()\r\n",
        "\r\n",
        "    def is_empty( self ):\r\n",
        "        return len(self.__data) == 0\r\n",
        "\r\n",
        "    def length( self ):\r\n",
        "        return len( self.__data)\r\n",
        "\r\n",
        "    def enqueue( self , item ):\r\n",
        "        self.__data.append( item )\r\n",
        "\r\n",
        "    def dequeue( self ):\r\n",
        "        if not self.is_empty():\r\n",
        "            return self.__data.pop(0)\r\n",
        "        else:\r\n",
        "            return None\r\n",
        "    def to_string( self ):\r\n",
        "        cadena = \"\"\r\n",
        "        for elem in self.__data:\r\n",
        "            cadena = cadena +\"| \"+ elem \r\n",
        "        cadena = cadena +\"|\"\r\n",
        "        return cadena\r\n"
      ],
      "execution_count": 10,
      "outputs": []
    },
    {
      "cell_type": "code",
      "metadata": {
        "id": "WOWSvyreERFj"
      },
      "source": [
        "class PriorityQueue:\r\n",
        "  def __init__(self):\r\n",
        "    self.__data = [Queue()]\r\n",
        "    self.__size = 0\r\n",
        "  \r\n",
        "  def is_empty(self):\r\n",
        "    return self.__size == 0\r\n",
        "\r\n",
        "  def lenght(self):\r\n",
        "    return self.__size\r\n",
        "\r\n",
        "  def enqueue(self, priority, elem):\r\n",
        "\r\n",
        "    if priority < len(self.__data) and priority >= 0:\r\n",
        "      self.__data[priority].enqueue(elem)\r\n",
        "      self.__size += 1\r\n",
        "\r\n",
        "    elif priority >= len(self.__data) and priority >= 0:\r\n",
        "      while priority >= len(self.__data):\r\n",
        "        self.__data.append(Queue())\r\n",
        "      self.__data[priority].enqueue(elem)\r\n",
        "      self.__size += 1\r\n",
        "  \r\n",
        "  def dequeue(self):\r\n",
        "      self.__size -= 1\r\n",
        "      self.__data.pop(0)\r\n",
        "      \r\n",
        "  def to_string(self):\r\n",
        "    print(\"Plan de vacunas del gobierno\")\r\n",
        "    for nivel in range(len(self.__data)):\r\n",
        "      print(f\"Nivel {nivel} --{self.__data[nivel].to_string()} \")"
      ],
      "execution_count": 25,
      "outputs": []
    },
    {
      "cell_type": "code",
      "metadata": {
        "colab": {
          "base_uri": "https://localhost:8080/"
        },
        "id": "KrYV8hjsFfP7",
        "outputId": "28d926b7-70dc-4e94-dc25-b183a37ebeb6"
      },
      "source": [
        "cpna = PriorityQueue()\r\n",
        "cpna.enqueue( 6,\"Poblacion menor de 40 Años\" )\r\n",
        "cpna.enqueue( 3,\"Personas de 60 a 59 años\" )\r\n",
        "cpna.enqueue( 0,\"Trabajadores del sector salud\" )\r\n",
        "cpna.enqueue( 1,\"Personas de 80 y mas \" )\r\n",
        "cpna.enqueue( 2,\"Personas de 70 a 79 años\" )\r\n",
        "cpna.enqueue( 4,\"Personas de 50 a 59 años\" )\r\n",
        "cpna.enqueue( 5,\"Personas de 40 a 49 años\" )\r\n",
        "cpna.to_string()\r\n",
        "\r\n"
      ],
      "execution_count": 26,
      "outputs": [
        {
          "output_type": "stream",
          "text": [
            "Plan de vacunas del gobierno\n",
            "Nivel 0 --| Trabajadores del sector salud| \n",
            "Nivel 1 --| Personas de 80 y mas | \n",
            "Nivel 2 --| Personas de 70 a 79 años| \n",
            "Nivel 3 --| Personas de 60 a 59 años| \n",
            "Nivel 4 --| Personas de 50 a 59 años| \n",
            "Nivel 5 --| Personas de 40 a 49 años| \n",
            "Nivel 6 --| Poblacion menor de 40 Años| \n"
          ],
          "name": "stdout"
        }
      ]
    }
  ]
}