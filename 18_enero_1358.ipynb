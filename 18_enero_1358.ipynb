{
  "nbformat": 4,
  "nbformat_minor": 0,
  "metadata": {
    "colab": {
      "name": "18_enero_1358.ipynb",
      "provenance": [],
      "authorship_tag": "ABX9TyNVsdVTE8Ubf5cG/H16Wer3",
      "include_colab_link": true
    },
    "kernelspec": {
      "name": "python3",
      "display_name": "Python 3"
    }
  },
  "cells": [
    {
      "cell_type": "markdown",
      "metadata": {
        "id": "view-in-github",
        "colab_type": "text"
      },
      "source": [
        "<a href=\"https://colab.research.google.com/github/hugoheldens/edd_1358_2021-1/blob/master/18_enero_1358.ipynb\" target=\"_parent\"><img src=\"https://colab.research.google.com/assets/colab-badge.svg\" alt=\"Open In Colab\"/></a>"
      ]
    },
    {
      "cell_type": "code",
      "metadata": {
        "id": "88cGd61XOBKB"
      },
      "source": [
        "class NodoArbol:\r\n",
        "    def __init__( self, value, left=None, right=None ):\r\n",
        "        self.data = value\r\n",
        "        self.left = left\r\n",
        "        self.right = right\r\n",
        "        "
      ],
      "execution_count": 8,
      "outputs": []
    },
    {
      "cell_type": "code",
      "metadata": {
        "id": "8hW9AKGeS23d"
      },
      "source": [
        "class ArbolBinarioBusqueda:\r\n",
        "    def __init__( self ):\r\n",
        "        self.__root = None\r\n",
        "    def insert( self , value ):\r\n",
        "        if self.__root == None:\r\n",
        "            self.__root = NodoArbol( value )\r\n",
        "        else:\r\n",
        "            self.__insert__(  self.__root , value )\r\n",
        "\r\n",
        "    def __insert__( self , nodo, value ):#Funciona conn recursividad\r\n",
        "        if nodo.data == value:\r\n",
        "            print(\" El nodo ya exite, no se inserta \", value )\r\n",
        "        elif value < nodo.data:\r\n",
        "            # ir a la izquierda\r\n",
        "            if nodo.left == None:\r\n",
        "                nodo.left = NodoArbol( value, None, None )\r\n",
        "            else:\r\n",
        "                self.__insert__( nodo.left , value )\r\n",
        "        else:\r\n",
        "            #ir a la derecha \r\n",
        "            if nodo.right == None:\r\n",
        "                nodo.right = NodoArbol( value , None, None )\r\n",
        "            else:\r\n",
        "                self.__insert__( nodo.right, value )\r\n",
        "\r\n",
        "\r\n",
        "\r\n",
        "        \r\n",
        "\r\n"
      ],
      "execution_count": 13,
      "outputs": []
    },
    {
      "cell_type": "code",
      "metadata": {
        "colab": {
          "base_uri": "https://localhost:8080/"
        },
        "id": "pRBbt4u6dKDk",
        "outputId": "827f9819-6ce2-4e52-8bff-4b12ac76b2c7"
      },
      "source": [
        "abb = ArbolBinarioBusqueda()\r\n",
        "abb.insert(40)\r\n",
        "abb.insert(40)\r\n"
      ],
      "execution_count": 14,
      "outputs": [
        {
          "output_type": "stream",
          "text": [
            " El nodo ya exite, no se inserta  40\n"
          ],
          "name": "stdout"
        }
      ]
    }
  ]
}