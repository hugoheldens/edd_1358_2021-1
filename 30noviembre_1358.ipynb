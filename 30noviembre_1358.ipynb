{
  "nbformat": 4,
  "nbformat_minor": 0,
  "metadata": {
    "colab": {
      "name": "30noviembre_1358.ipynb",
      "provenance": [],
      "authorship_tag": "ABX9TyOjaZ7iTMQXDzfPp/cJQ0kQ",
      "include_colab_link": true
    },
    "kernelspec": {
      "name": "python3",
      "display_name": "Python 3"
    }
  },
  "cells": [
    {
      "cell_type": "markdown",
      "metadata": {
        "id": "view-in-github",
        "colab_type": "text"
      },
      "source": [
        "<a href=\"https://colab.research.google.com/github/hugoheldens/edd_1358_2021-1/blob/master/30noviembre_1358.ipynb\" target=\"_parent\"><img src=\"https://colab.research.google.com/assets/colab-badge.svg\" alt=\"Open In Colab\"/></a>"
      ]
    },
    {
      "cell_type": "code",
      "metadata": {
        "id": "dkgTYkR2c9NT"
      },
      "source": [
        "class Stack:\n",
        "    def __init__( self ):\n",
        "        self.__data = []\n",
        "        self.__size = 0\n",
        "    def pop( self ):\n",
        "        return self.__data.pop()\n",
        "\n",
        "    def peek( self ):\n",
        "        return self.__data[-1]\n",
        "\n",
        "    def push( self , value ):\n",
        "        self.__data.append( value )\n",
        "\n",
        "    def to_string( self ):\n",
        "        print(\" -----\")\n",
        "        for dato in self.__data[::-1]:\n",
        "            print(f\" | {dato}  | \")\n",
        "            print(\"-----\")\n",
        "    \n",
        "\n",
        "\n"
      ],
      "execution_count": 5,
      "outputs": []
    },
    {
      "cell_type": "code",
      "metadata": {
        "colab": {
          "base_uri": "https://localhost:8080/"
        },
        "id": "likmQXnXAD7U",
        "outputId": "431654a8-24b7-4ded-d1fb-25ffd5cc6435"
      },
      "source": [
        "pl = Stack()\n",
        "pl.push( 34 )\n",
        "pl.push( 10 )\n",
        "pl.push( 45 )\n",
        "pl.push( 4 )\n",
        "pl.push( 23 )\n",
        "pl.push( 33 )\n",
        "valor = pl.pop()\n",
        "print(valor * 2 )\n",
        "pl.to_string()\n",
        "valor = pl.peek()\n",
        "print( valor * 2 )\n",
        "pl.to_string()"
      ],
      "execution_count": 10,
      "outputs": [
        {
          "output_type": "stream",
          "text": [
            "66\n",
            " -----\n",
            " | 23  | \n",
            "-----\n",
            " | 4  | \n",
            "-----\n",
            " | 45  | \n",
            "-----\n",
            " | 10  | \n",
            "-----\n",
            " | 34  | \n",
            "-----\n",
            "46\n",
            " -----\n",
            " | 23  | \n",
            "-----\n",
            " | 4  | \n",
            "-----\n",
            " | 45  | \n",
            "-----\n",
            " | 10  | \n",
            "-----\n",
            " | 34  | \n",
            "-----\n"
          ],
          "name": "stdout"
        }
      ]
    },
    {
      "cell_type": "code",
      "metadata": {
        "colab": {
          "base_uri": "https://localhost:8080/"
        },
        "id": "Pnjfwri-CEs8",
        "outputId": "ace9adbf-f977-425b-a7bd-9c4eb0c37943"
      },
      "source": [
        "# aplicaciones de la estructura stack\n",
        "# 1.- Validacion de parentesis balanceados '(' , ' '{' y ['\n",
        "\n",
        "cadena =\"b=3*(5+(4/2))\"\n",
        "cadena = \"\"\n",
        "pila = Stack()\n",
        "pila.push(\"#\")#Caracter de pila vacia.\n",
        "for elem in cadena:\n",
        "    if elem == '(':\n",
        "        pila.push('*')\n",
        "    elif elem == ')':\n",
        "        pila.pop()\n",
        "    else:\n",
        "        pass\n",
        "if pila.peek() == '#':\n",
        "    print(\" La expresion esta balanceada en parentesis\")\n",
        "else:\n",
        "    print(\"La expresion no esta balanceada\") \n"
      ],
      "execution_count": 18,
      "outputs": [
        {
          "output_type": "stream",
          "text": [
            " La expresion esta balanceada en parentesis\n"
          ],
          "name": "stdout"
        }
      ]
    }
  ]
}