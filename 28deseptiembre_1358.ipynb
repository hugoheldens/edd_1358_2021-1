{
  "nbformat": 4,
  "nbformat_minor": 0,
  "metadata": {
    "colab": {
      "name": "28deseptiembre_1358.ipynb",
      "provenance": [],
      "collapsed_sections": [],
      "authorship_tag": "ABX9TyMGdlijCTysT1WQTfVMQqxS",
      "include_colab_link": true
    },
    "kernelspec": {
      "name": "python3",
      "display_name": "Python 3"
    }
  },
  "cells": [
    {
      "cell_type": "markdown",
      "metadata": {
        "id": "view-in-github",
        "colab_type": "text"
      },
      "source": [
        "<a href=\"https://colab.research.google.com/github/hugoheldens/edd_1358_2021-1/blob/master/28deseptiembre_1358.ipynb\" target=\"_parent\"><img src=\"https://colab.research.google.com/assets/colab-badge.svg\" alt=\"Open In Colab\"/></a>"
      ]
    },
    {
      "cell_type": "code",
      "metadata": {
        "id": "7LxwzIrZXIYb"
      },
      "source": [
        "print (\"Hola Colab Research\")\n",
        "nombre = \"EdD\""
      ],
      "execution_count": null,
      "outputs": []
    },
    {
      "cell_type": "code",
      "metadata": {
        "id": "npNTcspsX4AP"
      },
      "source": [
        "print (nombre)"
      ],
      "execution_count": null,
      "outputs": []
    },
    {
      "cell_type": "code",
      "metadata": {
        "id": "J0rUH65ob_Cc"
      },
      "source": [
        "class Silla ():\n",
        "  def __init__ (self):\n",
        "    self.material=\"\"\n",
        "    self.color = \"\"\n",
        "    \n",
        "  def to_string(self):\n",
        "    print (\"----\")\n",
        "    print (f\"Material: {self .material}\")\n",
        "    print (f\"{self.color} -----\")\n",
        "\n"
      ],
      "execution_count": null,
      "outputs": []
    },
    {
      "cell_type": "code",
      "metadata": {
        "id": "a2eglCPyeARX",
        "outputId": "375f9ccd-2e17-47df-db14-d4682cc1428f",
        "colab": {
          "base_uri": "https://localhost:8080/",
          "height": 68
        }
      },
      "source": [
        "obj = Silla()\n",
        "obj.material = \"Madera\"\n",
        "obj.color = \"Cafe\"\n",
        "obj.to_string()"
      ],
      "execution_count": null,
      "outputs": [
        {
          "output_type": "stream",
          "text": [
            "----\n",
            "Material: Madera\n",
            "Cafe -----\n"
          ],
          "name": "stdout"
        }
      ]
    }
  ]
}