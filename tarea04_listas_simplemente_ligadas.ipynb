{
  "nbformat": 4,
  "nbformat_minor": 0,
  "metadata": {
    "colab": {
      "name": "tarea04_listas_simplemente_ligadas.ipynb",
      "provenance": [],
      "authorship_tag": "ABX9TyOMzB4j4dYX+AmsVz/Tvs19",
      "include_colab_link": true
    },
    "kernelspec": {
      "name": "python3",
      "display_name": "Python 3"
    }
  },
  "cells": [
    {
      "cell_type": "markdown",
      "metadata": {
        "id": "view-in-github",
        "colab_type": "text"
      },
      "source": [
        "<a href=\"https://colab.research.google.com/github/hugoheldens/edd_1358_2021-1/blob/master/tarea04_listas_simplemente_ligadas.ipynb\" target=\"_parent\"><img src=\"https://colab.research.google.com/assets/colab-badge.svg\" alt=\"Open In Colab\"/></a>"
      ]
    },
    {
      "cell_type": "code",
      "metadata": {
        "id": "OSIIoAwGtJtW"
      },
      "source": [
        "#23/11/2020\n",
        "class Nodo:\n",
        "    def __init__( self , dato , siguiente =None ):\n",
        "        self.dato = dato\n",
        "        self.siguiente = siguiente\n",
        "\n",
        "class LinkedList:\n",
        "    def __init__(self):\n",
        "        self.__head= None \n",
        "\n",
        "    def is_empty( self ):\n",
        "        return self.__head== None\n",
        "\n",
        "    def tail( self ):\n",
        "        curr_node = self.__head\n",
        "        while curr_node != None and curr_node.siguiente !=None:\n",
        "            curr_node = curr_node.siguiente\n",
        "        return curr_node\n",
        "\n",
        "    def append( self , value ):\n",
        "        nuevo = Nodo( value )\n",
        "        if self.__head == None:\n",
        "            self.__head = nuevo\n",
        "        else:\n",
        "            self.tail().siguiente = nuevo\n",
        "            \n",
        "    def transversal( self ):\n",
        "        curr_node = self.__head\n",
        "        if curr_node == None:\n",
        "            print(\"Lista vacia \")\n",
        "        else:\n",
        "            while curr_node != None:\n",
        "                print(f\"{ curr_node.dato } -- \", end = \"\")\n",
        "                curr_node = curr_node.siguiente\n",
        "        print(\"\")\n",
        "\n",
        "    def prepend( self , value ):\n",
        "        nuevo = Nodo( value) \n",
        "        if self.__head == None:\n",
        "            self.__head == nuevo\n",
        "        else:\n",
        "            x = self.__head\n",
        "            self.__head = nuevo\n",
        "            nuevo.siguiente = x\n",
        "\n",
        "    def remove ( self, value ):\n",
        "        curr_node = self.__head\n",
        "\n",
        "        if self.__head == value:\n",
        "            self.__head = self.__head.siguiente\n",
        "        \n",
        "        else:\n",
        "            while curr_node.siguiente != None:\n",
        "                if curr_node.siguiente.dato == value:\n",
        "                    curr_node.siguiente = curr_node.siguiente.siguiente\n",
        "                    break\n",
        "                else:\n",
        "                    curr_node = curr_node.siguiente\n",
        "    def pop( self, value ):\n",
        "        curr_node = self.__head\n",
        "        contador = 0\n",
        "        while contador <= value:\n",
        "            if contador == value:\n",
        "                print(f\"El valor de la posicion {contador} es {curr_node.dato}.\") \n",
        "            curr_node = curr_node.siguiente\n",
        "            contador += 1\n",
        "    "
      ],
      "execution_count": 49,
      "outputs": []
    },
    {
      "cell_type": "code",
      "metadata": {
        "colab": {
          "base_uri": "https://localhost:8080/"
        },
        "id": "NHKkO8fe5F4r",
        "outputId": "686636ff-4f3d-4562-cd42-a3399fd9f492"
      },
      "source": [
        "l = LinkedList()\n",
        "print(f\"l esta vacia?= { l.is_empty()}\")\n",
        "x = l.tail()\n",
        "print(x)\n",
        "l.append(10)\n",
        "l.append(10)\n",
        "l.append(20)\n",
        "l.append(30)\n",
        "l.append(40)\n",
        "l.append(40)\n",
        "l.append(50)\n",
        "l.transversal()\n",
        "l.prepend( 5 )\n",
        "l.transversal()\n",
        "print(\"\\n\")\n",
        "l.remove(10)#aqui se usa remove  pára eliminar la primer coincidencia \n",
        "l.transversal()\n",
        "l.remove(10)\n",
        "l.transversal()#segundo uso\n",
        "l.pop(2)\n",
        "l.pop(3)"
      ],
      "execution_count": 50,
      "outputs": [
        {
          "output_type": "stream",
          "text": [
            "l esta vacia?= True\n",
            "None\n",
            "10 -- 10 -- 20 -- 30 -- 40 -- 40 -- 50 -- \n",
            "5 -- 10 -- 10 -- 20 -- 30 -- 40 -- 40 -- 50 -- \n",
            "\n",
            "\n",
            "5 -- 10 -- 20 -- 30 -- 40 -- 40 -- 50 -- \n",
            "5 -- 20 -- 30 -- 40 -- 40 -- 50 -- \n",
            "El valor de la posicion 2 es 30.\n",
            "El valor de la posicion 3 es 40.\n"
          ],
          "name": "stdout"
        }
      ]
    }
  ]
}