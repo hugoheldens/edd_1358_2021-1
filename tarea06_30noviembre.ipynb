{
  "nbformat": 4,
  "nbformat_minor": 0,
  "metadata": {
    "colab": {
      "name": "tarea06_30noviembre.ipynb",
      "provenance": [],
      "authorship_tag": "ABX9TyOn9cTMuARXRritcmxzkuRR",
      "include_colab_link": true
    },
    "kernelspec": {
      "name": "python3",
      "display_name": "Python 3"
    }
  },
  "cells": [
    {
      "cell_type": "markdown",
      "metadata": {
        "id": "view-in-github",
        "colab_type": "text"
      },
      "source": [
        "<a href=\"https://colab.research.google.com/github/hugoheldens/edd_1358_2021-1/blob/master/tarea06_30noviembre.ipynb\" target=\"_parent\"><img src=\"https://colab.research.google.com/assets/colab-badge.svg\" alt=\"Open In Colab\"/></a>"
      ]
    },
    {
      "cell_type": "code",
      "metadata": {
        "colab": {
          "base_uri": "https://localhost:8080/"
        },
        "id": "mU2m_FCHaH_1",
        "outputId": "bba68419-7354-4e3f-e53d-b498629835f8"
      },
      "source": [
        "class Nodo:\n",
        "  def __init__( self, dato , siguiente = None):\n",
        "    self.dato = dato\n",
        "    self.siguiente = siguiente\n",
        "\n",
        "class CircularList:\n",
        "  def __init__( self ):\n",
        "    self.__ref = None\n",
        "    self.__size = 0\n",
        "\n",
        "  def get_size( self ):\n",
        "    return self.__size\n",
        "\n",
        "  def is_empty( self ):\n",
        "    return self.__size == 0\n",
        "  \n",
        "  def insert( self, value ):\n",
        "    nuevo = Nodo(value)\n",
        "    if self.is_empty():\n",
        "      self.__ref = nuevo\n",
        "      nuevo.siguiente = nuevo\n",
        "      self.__size += 1\n",
        "    else:\n",
        "      if self.search(value):\n",
        "        pass\n",
        "      else:\n",
        "        curr_node = self.__ref\n",
        "        if curr_node.dato < value:\n",
        "          nuevo.siguiente = curr_node.siguiente\n",
        "          curr_node.siguiente = nuevo\n",
        "          self.__ref = nuevo \n",
        "        else:\n",
        "          while curr_node.siguiente.dato < value:\n",
        "            curr_node = curr_node.siguiente\n",
        "          nuevo.siguiente = curr_node.siguiente\n",
        "          curr_node.siguiente = nuevo\n",
        "        self.__size += 1\n",
        "  \n",
        "  def transversal( self ):\n",
        "    if self.is_empty():\n",
        "      print(\"Lista vacía\")\n",
        "    else:\n",
        "      curr_node = self.__ref.siguiente\n",
        "      while curr_node != self.__ref:\n",
        "        print(f\"-> {curr_node.dato} --\", end=\"\")\n",
        "        curr_node = curr_node.siguiente\n",
        "    print(f\"-> {self.__ref.dato} --->\")\n",
        "  \n",
        "  def search( self, value ):\n",
        "    if self.is_empty():\n",
        "      pass\n",
        "    else:\n",
        "      curr_node = self.__ref.siguiente\n",
        "      while curr_node.dato != value and curr_node != self.__ref:\n",
        "        curr_node = curr_node.siguiente\n",
        "      if curr_node.dato == value:\n",
        "        return True\n",
        "      else: \n",
        "        return False\n",
        "\n",
        "  def remove( self, value ):\n",
        "    if self.search(value):\n",
        "      curr_node = self.__ref\n",
        "      if curr_node.dato == value:\n",
        "        while curr_node.siguiente != self.__ref:\n",
        "          curr_node = curr_node.siguiente\n",
        "        curr_node.siguiente = self.__ref.siguiente\n",
        "        self.__ref = curr_node\n",
        "      else:\n",
        "        while curr_node.siguiente.dato != value and curr_node.siguiente != self.__ref:\n",
        "          curr_node = curr_node.siguiente\n",
        "        if curr_node.siguiente.dato == value:\n",
        "          curr_node.siguiente = curr_node.siguiente.siguiente\n",
        "      self.__size -= 1\n",
        "    else:\n",
        "      pass\n",
        "\n",
        "listc = CircularList()\n",
        "print(lc.is_empty())\n",
        "listc.insert(10)\n",
        "listc.insert(20)\n",
        "listc.insert(30)\n",
        "listc.insert(40)\n",
        "listc.insert(50)\n",
        "listc.insert(60)\n",
        "listc.transversal()\n",
        "print(lc.search(10))\n",
        "print(lc.search(800))\n",
        "listc.insert(25)\n",
        "listc.transversal()\n",
        "listc.remove(10)\n",
        "listc.remove(60)\n",
        "listc.transversal()\n"
      ],
      "execution_count": 9,
      "outputs": [
        {
          "output_type": "stream",
          "text": [
            "False\n",
            "-> 10 ---> 20 ---> 30 ---> 40 ---> 50 ---> 60 --->\n",
            "False\n",
            "False\n",
            "-> 10 ---> 20 ---> 25 ---> 30 ---> 40 ---> 50 ---> 60 --->\n",
            "-> 20 ---> 25 ---> 30 ---> 40 ---> 50 --->\n"
          ],
          "name": "stdout"
        }
      ]
    }
  ]
}