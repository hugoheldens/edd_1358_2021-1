{
  "nbformat": 4,
  "nbformat_minor": 0,
  "metadata": {
    "colab": {
      "name": "Tarea_10.ipynb",
      "provenance": [],
      "authorship_tag": "ABX9TyOzgtU0SjytaTbVM6zuefx3",
      "include_colab_link": true
    },
    "kernelspec": {
      "name": "python3",
      "display_name": "Python 3"
    }
  },
  "cells": [
    {
      "cell_type": "markdown",
      "metadata": {
        "id": "view-in-github",
        "colab_type": "text"
      },
      "source": [
        "<a href=\"https://colab.research.google.com/github/hugoheldens/edd_1358_2021-1/blob/master/Tarea_10.ipynb\" target=\"_parent\"><img src=\"https://colab.research.google.com/assets/colab-badge.svg\" alt=\"Open In Colab\"/></a>"
      ]
    },
    {
      "cell_type": "code",
      "metadata": {
        "id": "7gIS9bc2ISQf",
        "colab": {
          "base_uri": "https://localhost:8080/"
        },
        "outputId": "3467cc08-19b9-44ef-a144-d97417e8c642"
      },
      "source": [
        "#1\r\n",
        "def sumalista(lista):\r\n",
        "  if len(lista) == 1: \r\n",
        "    return lista.pop() \r\n",
        "  else: \r\n",
        "    return lista.pop() + sumalista(lista) \r\n",
        "\r\n",
        "numeros = [1,2,3,4,5]\r\n",
        "suma_lista = sumalista(numeros)\r\n",
        "print(suma_lista)\r\n"
      ],
      "execution_count": null,
      "outputs": [
        {
          "output_type": "stream",
          "text": [
            "15\n"
          ],
          "name": "stdout"
        }
      ]
    },
    {
      "cell_type": "code",
      "metadata": {
        "colab": {
          "base_uri": "https://localhost:8080/"
        },
        "id": "TZ6eg53aWEUL",
        "outputId": "5379ef30-d88e-44ab-9186-9a9dd89b10b0"
      },
      "source": [
        "#2 Hacer un contador regresivo con recursión\r\n",
        "def recursion( i ):\r\n",
        "    if ( i < 0 ):\r\n",
        "        return 0\r\n",
        "    print( i )\r\n",
        "    recursion( i - 1 )\r\n",
        "\r\n",
        "recursion(6)"
      ],
      "execution_count": null,
      "outputs": [
        {
          "output_type": "stream",
          "text": [
            "6\n",
            "5\n",
            "4\n",
            "3\n",
            "2\n",
            "1\n",
            "0\n"
          ],
          "name": "stdout"
        }
      ]
    },
    {
      "cell_type": "code",
      "metadata": {
        "id": "suI29KDEYP6S"
      },
      "source": [
        "#3 Sacar de un ADT pila el valor en la posición media\r\n",
        "class Stack:\r\n",
        "    def __init__(self):\r\n",
        "        self.__data = []\r\n",
        "        self.__size = 0\r\n",
        "\r\n",
        "    def pop(self):\r\n",
        "        return self.__data.pop()\r\n",
        "\r\n",
        "    def get_size(self):\r\n",
        "        return self.__size\r\n",
        "\r\n",
        "    def peak(self):\r\n",
        "        if len(self.__data) > 0:\r\n",
        "            return self.__data[-1]\r\n",
        "        else:\r\n",
        "            return None\r\n",
        "\r\n",
        "    def push(self,value):\r\n",
        "        self.__data.append(value)\r\n",
        "        self.__size += 1\r\n",
        "\r\n",
        "    def to_string(self):\r\n",
        "        print(\"-\"*6)\r\n",
        "        for dato in self.__data[::-1]:\r\n",
        "            print(f\"| {dato} |\")\r\n",
        "            print(\"/\" * 6)\r\n",
        "        print(\"\")\r\n",
        "\r\n",
        "    \r\n",
        "\r\n",
        "\r\n",
        "\r\n"
      ],
      "execution_count": null,
      "outputs": []
    }
  ]
}