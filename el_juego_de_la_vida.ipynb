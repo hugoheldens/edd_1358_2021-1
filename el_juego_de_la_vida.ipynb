{
  "nbformat": 4,
  "nbformat_minor": 0,
  "metadata": {
    "colab": {
      "name": "el_juego_de_la_vida.ipynb",
      "provenance": [],
      "authorship_tag": "ABX9TyPqQYdPEiyMqaxTINl6UP/q",
      "include_colab_link": true
    },
    "kernelspec": {
      "name": "python3",
      "display_name": "Python 3"
    }
  },
  "cells": [
    {
      "cell_type": "markdown",
      "metadata": {
        "id": "view-in-github",
        "colab_type": "text"
      },
      "source": [
        "<a href=\"https://colab.research.google.com/github/hugoheldens/edd_1358_2021-1/blob/master/el_juego_de_la_vida.ipynb\" target=\"_parent\"><img src=\"https://colab.research.google.com/assets/colab-badge.svg\" alt=\"Open In Colab\"/></a>"
      ]
    },
    {
      "cell_type": "code",
      "metadata": {
        "id": "TLTqdIcD7aLB"
      },
      "source": [
        "class Array2D:\n",
        "\n",
        "    def __init__(self,rows, cols, value):\n",
        "        self.__cols = cols\n",
        "        self.__rows = rows\n",
        "        self.__array=[[value for x in range(self.__cols)] for y in range(self.__rows)]\n",
        "\n",
        "    def to_string(self):\n",
        "        [print(\"---\",end=\"\") for x in range(self.__cols)]\n",
        "        print(\"\")\n",
        "        for ren in self.__array:\n",
        "            print(ren)\n",
        "        [print(\"---\",end=\"\") for x in range(self.__cols)]\n",
        "        print(\"\")\n",
        "\n",
        "    def get_num_rows(self):\n",
        "        return self.__rows\n",
        "\n",
        "    def get_num_cols(self):\n",
        "        return self.__cols\n",
        "\n",
        "    def get_item(self,row,col):\n",
        "        return self.__array[row][col]\n",
        "\n",
        "    def set_item( self , row , col , valor ):\n",
        "        self.__array[row][col]=valor\n",
        "\n",
        "    def clearing(self, valor=0):\n",
        "        for ren in range(self.__rows):\n",
        "            for col in range(self.__cols):\n",
        "                self.__array[ren][col]=valor"
      ],
      "execution_count": null,
      "outputs": []
    },
    {
      "cell_type": "code",
      "metadata": {
        "id": "xB5FAFmz78uC"
      },
      "source": [
        "class gol:\n",
        "    # Metodos \n",
        "\n",
        " def configura_generacion(self,nueva_poblacion):\n",
        "        self.grid.clearing()\n",
        "        for celula in nueva_poblacion:\n",
        "            self.grid.set_item(celula[0],celula[1],self.CELULA_VIVA)\n",
        "\n",
        "\n",
        "    def imprime_grid(self):\n",
        "        for r in range(self.grid.get_num_rows()):\n",
        "            for c in range(self.grid.get_num_cols()):\n",
        "                if self.grid.get_item(r,c) == 0:\n",
        "                    print(\"░░\",end=\"\")\n",
        "                else:\n",
        "                    print(\"▓▓\",end=\"\")\n",
        "            print(\"\")\n",
        "\n",
        "\n"
      ],
      "execution_count": null,
      "outputs": []
    }
  ]
}