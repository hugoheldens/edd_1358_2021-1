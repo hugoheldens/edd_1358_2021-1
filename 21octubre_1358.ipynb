{
  "nbformat": 4,
  "nbformat_minor": 0,
  "metadata": {
    "colab": {
      "name": "21octubre_1358.ipynb",
      "provenance": [],
      "authorship_tag": "ABX9TyMocmLnx5xTczcLMBt+4UU8",
      "include_colab_link": true
    },
    "kernelspec": {
      "name": "python3",
      "display_name": "Python 3"
    }
  },
  "cells": [
    {
      "cell_type": "markdown",
      "metadata": {
        "id": "view-in-github",
        "colab_type": "text"
      },
      "source": [
        "<a href=\"https://colab.research.google.com/github/hugoheldens/edd_1358_2021-1/blob/master/21octubre_1358.ipynb\" target=\"_parent\"><img src=\"https://colab.research.google.com/assets/colab-badge.svg\" alt=\"Open In Colab\"/></a>"
      ]
    },
    {
      "cell_type": "code",
      "metadata": {
        "id": "HbEvb4BetACE",
        "outputId": "6f6274ef-fabb-43eb-dedf-5f633061b9c0",
        "colab": {
          "base_uri": "https://localhost:8080/",
          "height": 85
        }
      },
      "source": [
        "#Metodo de encapsulamiento tradicional way\n",
        "class SmartPhone:\n",
        "    def __init__( self , m ):\n",
        "        self.__marca = m\n",
        "\n",
        "    def set_marca(self , m ):\n",
        "        self.__marca = m\n",
        "\n",
        "    def get_marca( self ):\n",
        "        return self.__marca\n",
        "\n",
        "    def to_string( self ):\n",
        "        return \"La marca del telefono es: \" + self.__marca\n",
        "\n",
        "spl = SmartPhone( \"Huawei\")\n",
        "print(spl.to_string() )\n",
        "\n",
        "spl.__marca = \"iPhone X\"\n",
        "print( spl.to_string())\n",
        "spl.set_marca(\"Samsumg \")\n",
        "print( spl.to_string())\n",
        "print( spl.get_marca())"
      ],
      "execution_count": 4,
      "outputs": [
        {
          "output_type": "stream",
          "text": [
            "La marca del telefono es: Huawei\n",
            "La marca del telefono es: Huawei\n",
            "La marca del telefono es: Samsumg \n",
            "Samsumg \n"
          ],
          "name": "stdout"
        }
      ]
    },
    {
      "cell_type": "code",
      "metadata": {
        "id": "-JS_NxxpxYOw",
        "outputId": "02652ee0-e1d1-4ac0-cb0c-53e4bb7556a8",
        "colab": {
          "base_uri": "https://localhost:8080/",
          "height": 204
        }
      },
      "source": [
        "#Estilo Python 3\n",
        "class SmartPhone:\n",
        "    def __init__( self , m ):\n",
        "        self.marca = m  #No define el atributo esta llamando el metodo GET\n",
        "         \n",
        "    @property  \n",
        "    def marca( self ): #Define el metodo get y declara self.__marca\n",
        "        print(\"En el metodo get de marca\")\n",
        "        return self.__marca \n",
        "\n",
        "    @marca.setter #posterior a la definicion del atributo \n",
        "    def marca( self , m ):\n",
        "        if m in [\"Lenovo\",\"Sony\",\"Motorola\",\"iPhone SE\",\"Huawei\",\"Xiaomi\"]:\n",
        "            self.__marca = m \n",
        "        else:\n",
        "            print(\"Asignacion no valida \")\n",
        "\n",
        "\n",
        "    def to_string( self ):\n",
        "        return \"Marca = \" + self.marca\n",
        "\n",
        "sp2 = SmartPhone(\"Xiaomi\")\n",
        "print(sp2.to_string() )\n",
        "\n",
        "sp2.__marca = \"iPhone SE \"\n",
        "print( sp2.to_string() )\n",
        "\n",
        "sp2.marca = \"Motorola\" # invocacion del metodo set \n",
        "print( sp2.to_string() )\n",
        "\n",
        "print(sp2.marca) #Invocacion del metodo get\n",
        "sp2.marca = \"646565w5dfwfefefw61\"\n",
        "print( sp2.to_string() )"
      ],
      "execution_count": 23,
      "outputs": [
        {
          "output_type": "stream",
          "text": [
            "En el metodo get de marca\n",
            "Marca = Xiaomi\n",
            "En el metodo get de marca\n",
            "Marca = Xiaomi\n",
            "En el metodo get de marca\n",
            "Marca = Motorola\n",
            "En el metodo get de marca\n",
            "Motorola\n",
            "Asignacion no valida \n",
            "En el metodo get de marca\n",
            "Marca = Motorola\n"
          ],
          "name": "stdout"
        }
      ]
    },
    {
      "cell_type": "code",
      "metadata": {
        "id": "F5KgQDEm6zeC",
        "outputId": "8cacc799-7b7e-41a1-e224-d846b8bb4d89",
        "colab": {
          "base_uri": "https://localhost:8080/",
          "height": 88
        }
      },
      "source": [
        "class TelefonoTrabajo(SmartPhone):\n",
        "    def __init__( self , m ):\n",
        "        self.marca = m \n",
        "smp3 = TelefonoTrabajo(\"Motorola\")\n",
        "print(dir(smp3))\n",
        "print(smp3.to_string())"
      ],
      "execution_count": 24,
      "outputs": [
        {
          "output_type": "stream",
          "text": [
            "['_SmartPhone__marca', '__class__', '__delattr__', '__dict__', '__dir__', '__doc__', '__eq__', '__format__', '__ge__', '__getattribute__', '__gt__', '__hash__', '__init__', '__init_subclass__', '__le__', '__lt__', '__module__', '__ne__', '__new__', '__reduce__', '__reduce_ex__', '__repr__', '__setattr__', '__sizeof__', '__str__', '__subclasshook__', '__weakref__', 'marca', 'to_string']\n",
            "En el metodo get de marca\n",
            "Marca = Motorola\n"
          ],
          "name": "stdout"
        }
      ]
    }
  ]
}