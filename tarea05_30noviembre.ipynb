{
  "nbformat": 4,
  "nbformat_minor": 0,
  "metadata": {
    "colab": {
      "name": "tarea05_30noviembre.ipynb",
      "provenance": [],
      "authorship_tag": "ABX9TyP+pJFmUP+cZZBGxyQ4xNpa",
      "include_colab_link": true
    },
    "kernelspec": {
      "name": "python3",
      "display_name": "Python 3"
    }
  },
  "cells": [
    {
      "cell_type": "markdown",
      "metadata": {
        "id": "view-in-github",
        "colab_type": "text"
      },
      "source": [
        "<a href=\"https://colab.research.google.com/github/hugoheldens/edd_1358_2021-1/blob/master/tarea05_30noviembre.ipynb\" target=\"_parent\"><img src=\"https://colab.research.google.com/assets/colab-badge.svg\" alt=\"Open In Colab\"/></a>"
      ]
    },
    {
      "cell_type": "code",
      "metadata": {
        "id": "s4irdVWyMKLA"
      },
      "source": [
        "class NodoDoble:\n",
        "    def __init__( self , value , previo = None , siguiente=None ):\n",
        "        self.data = value\n",
        "        self.prev = previo\n",
        "        self.next = siguiente\n",
        "\n",
        "class DoubleLinkedList:\n",
        "    def __init__( self ):\n",
        "        self.__head = None\n",
        "        self.__tail = None \n",
        "        self.__size = 0\n",
        "\n",
        "    def get_size( self ):\n",
        "        return self.__size\n",
        "\n",
        "    def is_empty( self ):\n",
        "        return self.__size == 0\n",
        "    \n",
        "    def append( self , value ):\n",
        "        if self.is_empty():\n",
        "            nuevo = NodoDoble( value )\n",
        "            self.__head = nuevo \n",
        "            self.__tail = nuevo\n",
        "\n",
        "        else:\n",
        "            nuevo = NodoDoble( value , self.__tail , None)\n",
        "            self.__tail.next = nuevo\n",
        "            self.__tail = nuevo\n",
        "\n",
        "        self.__size += 1\n",
        "\n",
        "    def find_from_tail( self , value):\n",
        "        curr_node = self.__tail\n",
        "        contador = 0\n",
        "        while  curr_node.data != value:\n",
        "            curr_node = curr_node.prev\n",
        "            contador += 1\n",
        "        print(f\"El valor {value} se encuentra en la posicion: {contador}\")\n",
        "\n",
        "    def find_from_head( self , value):\n",
        "        curr_node = self.__head\n",
        "        contador = 0\n",
        "        while curr_node.data != value:\n",
        "            curr_node = curr_node.next\n",
        "            contador += 1\n",
        "        print(f\"El valor {value} se encuentra en la posicion: {contador}\")\n",
        "\n",
        "\n",
        "    def transversal( self ):\n",
        "        curr_node = self.__head\n",
        "        while curr_node != None:\n",
        "            print(\"-- \", curr_node.data, \"--\", end=\"\")\n",
        "            curr_node = curr_node.next\n",
        "        print(\"\")\n",
        "\n",
        "    def reverse_transversal( self ):\n",
        "        curr_node = self.__tail\n",
        "        if curr_node != None:\n",
        "            while curr_node != None:\n",
        "                print(\"--\", curr_node.data, \"--\", end = \"\")\n",
        "                curr_node = curr_node.prev\n",
        "            print(\"\")\n",
        "\n",
        "    def remove_from_head( self , value ):\n",
        "        if self.is_empty():\n",
        "            pass\n",
        "        elif self.__head.next == None:\n",
        "            self.__head = self.__tail = None\n",
        "            self.__size = 0\n",
        "        else:\n",
        "            curr_node = self.__head\n",
        "            while curr_node.data != value and curr_node != None:\n",
        "                curr_node = curr_node.next\n",
        "                if curr_node.data == value and curr_node.data == self.__head.data:\n",
        "                    anterior = curr_node\n",
        "                    self.__head = self.__head.next\n",
        "                elif curr_node.data == value:\n",
        "                    curr_node.prev.next = curr_node.next\n",
        "                    curr_node.next.prev = curr_node.prev\n",
        "        self.__size -= 1 \n",
        "\n",
        "    def remove_from_tail( self, value ):\n",
        "        if self.is_empty():\n",
        "            pass\n",
        "        elif self.__tail.prev == None:\n",
        "            self.__tail = self.__head = None\n",
        "            self.__size = 0\n",
        "        else:\n",
        "             curr_node = self.__tail\n",
        "             while curr_node.data != value and curr_node != None:\n",
        "                 curr_node = curr_node.prev\n",
        "                 if curr_node.data == value:\n",
        "                     curr_node.next.prev = curr_node.prev\n",
        "                     curr_node.prev.next = curr_node.next\n",
        "        self.__size -= 1 \n",
        "        \n",
        "    \n",
        "\n",
        "    \n",
        "\n",
        "    \n",
        "\n",
        " "
      ],
      "execution_count": 39,
      "outputs": []
    },
    {
      "cell_type": "code",
      "metadata": {
        "colab": {
          "base_uri": "https://localhost:8080/"
        },
        "id": "msqNEYubR7bZ",
        "outputId": "51239189-04e9-4a77-83c2-4bdc5d063cae"
      },
      "source": [
        "ldl = DoubleLinkedList()\n",
        "print(ldl.get_size())\n",
        "ldl.append( 10 )\n",
        "ldl.append( 20 )\n",
        "ldl.append( 30 )\n",
        "ldl.append( 40 )\n",
        "ldl.append( 50 )\n",
        "ldl.append( 60 )\n",
        "ldl.append( 70 )\n",
        "ldl.append( 80 )\n",
        "ldl.transversal()\n",
        "ldl.transversal()\n",
        "ldl.reverse_transversal()\n",
        "ldl.remove_from_head(10)\n",
        "ldl.transversal()\n",
        "ldl.remove_from_tail(40)\n",
        "ldl.transversal()\n",
        "ldl.find_from_head(70)\n",
        "ldl.find_from_tail(30)\n"
      ],
      "execution_count": 40,
      "outputs": [
        {
          "output_type": "stream",
          "text": [
            "0\n",
            "--  10 ----  20 ----  30 ----  40 ----  50 ----  60 ----  70 ----  80 --\n",
            "--  10 ----  20 ----  30 ----  40 ----  50 ----  60 ----  70 ----  80 --\n",
            "-- 80 ---- 70 ---- 60 ---- 50 ---- 40 ---- 30 ---- 20 ---- 10 --\n",
            "--  10 ----  20 ----  30 ----  40 ----  50 ----  60 ----  70 ----  80 --\n",
            "--  10 ----  20 ----  30 ----  50 ----  60 ----  70 ----  80 --\n",
            "El valor 70 se encuentra en la posicion: 5\n",
            "El valor 30 se encuentra en la posicion: 4\n"
          ],
          "name": "stdout"
        }
      ]
    }
  ]
}