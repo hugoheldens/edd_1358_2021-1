{
  "nbformat": 4,
  "nbformat_minor": 0,
  "metadata": {
    "colab": {
      "name": "6_enero_1358.ipynb",
      "provenance": [],
      "authorship_tag": "ABX9TyPQk+fDO0ttSXLUTa2D4B01",
      "include_colab_link": true
    },
    "kernelspec": {
      "name": "python3",
      "display_name": "Python 3"
    }
  },
  "cells": [
    {
      "cell_type": "markdown",
      "metadata": {
        "id": "view-in-github",
        "colab_type": "text"
      },
      "source": [
        "<a href=\"https://colab.research.google.com/github/hugoheldens/edd_1358_2021-1/blob/master/6_enero_1358.ipynb\" target=\"_parent\"><img src=\"https://colab.research.google.com/assets/colab-badge.svg\" alt=\"Open In Colab\"/></a>"
      ]
    },
    {
      "cell_type": "code",
      "metadata": {
        "id": "sOQ9qIuhpOd_"
      },
      "source": [
        "class Queue:\r\n",
        "    def __init__( self ):\r\n",
        "        self.__data = list()\r\n",
        "\r\n",
        "    def is_empty( self ):\r\n",
        "        return len(self.__data) == 0\r\n",
        "\r\n",
        "    def length( self ):\r\n",
        "        return len( self.__data)\r\n",
        "\r\n",
        "    def enqueue( self , item ):\r\n",
        "        self.__data.append( item )\r\n",
        "\r\n",
        "    def dequeue( self ):\r\n",
        "        if not self.is_empty():\r\n",
        "            return self.__data.pop(0)\r\n",
        "        else:\r\n",
        "            return None\r\n",
        "    def to_string( self ):\r\n",
        "        for elem in self.__data:\r\n",
        "            print(f\" |  { elem }\", end=\" \")\r\n",
        "        print(\" | \")\r\n"
      ],
      "execution_count": 1,
      "outputs": []
    },
    {
      "cell_type": "code",
      "metadata": {
        "id": "9zUzmIUgpSzl"
      },
      "source": [
        "class BoundedPriorityQueue:\r\n",
        "    def __init__( self , niveles ):\r\n",
        "        self.__data = [ Queue() for x in range(niveles)]\r\n",
        "        self.__size = 0\r\n",
        "\r\n",
        "    def is_empty( self ):\r\n",
        "        return self.__size == 0\r\n",
        "\r\n",
        "    def lenght( self ):\r\n",
        "        return self.__size\r\n",
        "\r\n",
        "    def enqueue( self , prioridad , elem ):\r\n",
        "        self.__data[prioridad].enqueue( elem )\r\n",
        "        "
      ],
      "execution_count": null,
      "outputs": []
    }
  ]
}