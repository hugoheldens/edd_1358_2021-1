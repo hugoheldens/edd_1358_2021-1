{
  "nbformat": 4,
  "nbformat_minor": 0,
  "metadata": {
    "colab": {
      "name": "07octubre_1358.ipynb",
      "provenance": [],
      "authorship_tag": "ABX9TyP0qCy9WBgV4HsXwBa5l3ki",
      "include_colab_link": true
    },
    "kernelspec": {
      "name": "python3",
      "display_name": "Python 3"
    }
  },
  "cells": [
    {
      "cell_type": "markdown",
      "metadata": {
        "id": "view-in-github",
        "colab_type": "text"
      },
      "source": [
        "<a href=\"https://colab.research.google.com/github/hugoheldens/edd_1358_2021-1/blob/master/07octubre_1358.ipynb\" target=\"_parent\"><img src=\"https://colab.research.google.com/assets/colab-badge.svg\" alt=\"Open In Colab\"/></a>"
      ]
    },
    {
      "cell_type": "code",
      "metadata": {
        "id": "RFuCrvn3mtKv",
        "outputId": "bbd13f2e-16d8-4660-a8ed-ab7e22bbc81e",
        "colab": {
          "base_uri": "https://localhost:8080/"
        }
      },
      "source": [
        "#Lista multidimension \n",
        "\n",
        "autos = [\"Mazda\",\"honda\",\"Akura\",\"Ford\",\"VW\"]\n",
        "telefonos = [\"iPhone\",\"Huawei Mate 30\", \"Xiaomi S10\",\"Alcatel t1000\"]\n",
        "sistemas_operativos = [ \"Windows\", \"Linux\" , \"Android\" , \"iOS\" ,\"MacOs\" ]\n",
        "procesadores = [[\"Intel\",3.1,True],[\"AMD\",2.7,False],[\"Motorola\",1.1,False]]\n",
        "\n",
        "\n",
        "lista_nd = [autos,telefonos,sistemas_operativos,procesadores]\n",
        "print(lista_nd)\n",
        "print(lista_nd[2][3])\n",
        "print(lista_nd[1][1][3:6])\n",
        "print(lista_nd[3][1][1])\n",
        "print(lista_nd[3][2][0][2:6])\n",
        "print(lista_nd[3][0][0][-2:-5:-1])\n",
        "#Concatenar listas \n",
        "colores = [\"rojo\",\"verde\",\"azul\",\"Negro\"]\n",
        "flores =[\"margarita\",\"rosa\"]\n",
        "\n",
        "nueva = colores + flores \n",
        "print(nueva)\n",
        "print(colores)\n",
        "print(flores)\n",
        "\n",
        "#con extends\n",
        "colores.extend(flores)\n",
        "print(colores)\n",
        "\n",
        "# unpacking de listas \n",
        "print(\"unpacking\")\n",
        "datos_personales = [\"Jose\", \"Perez\", \"Juarez\",22,1.67,True]\n",
        "nombre,paterno,materno,edad,est,fuma = datos_personales\n",
        "print(f\"Nombre: {nombre}\\n Edad:{edad}\")"
      ],
      "execution_count": 54,
      "outputs": [
        {
          "output_type": "stream",
          "text": [
            "[['Mazda', 'honda', 'Akura', 'Ford', 'VW'], ['iPhone', 'Huawei Mate 30', 'Xiaomi S10', 'Alcatel t1000'], ['Windows', 'Linux', 'Android', 'iOS', 'MacOs'], [['Intel', 3.1, True], ['AMD', 2.7, False], ['Motorola', 1.1, False]]]\n",
            "iOS\n",
            "wei\n",
            "2.7\n",
            "toro\n",
            "etn\n",
            "['rojo', 'verde', 'azul', 'Negro', 'margarita', 'rosa']\n",
            "['rojo', 'verde', 'azul', 'Negro']\n",
            "['margarita', 'rosa']\n",
            "['rojo', 'verde', 'azul', 'Negro', 'margarita', 'rosa']\n",
            "unpacking\n",
            "Nombre: Jose\n",
            " Edad:22\n"
          ],
          "name": "stdout"
        }
      ]
    },
    {
      "cell_type": "code",
      "metadata": {
        "id": "yz0UAoleuJDE",
        "outputId": "9b659b1e-0ef8-4932-c383-1f1948e26e3a",
        "colab": {
          "base_uri": "https://localhost:8080/"
        }
      },
      "source": [
        "#TUPLAS \n",
        "bd = ('127.0.0.1','root','toor','1345')\n",
        "print(f\"Usuario de la bd es { bd[1]}\")\n",
        "#bd[1]='user1'\n",
        "print(bd[1:3])\n"
      ],
      "execution_count": 57,
      "outputs": [
        {
          "output_type": "stream",
          "text": [
            "Usuario de la bd es root\n",
            "('root', 'toor')\n"
          ],
          "name": "stdout"
        }
      ]
    },
    {
      "cell_type": "code",
      "metadata": {
        "id": "rDbPDtwPwS3u",
        "outputId": "fa3263e1-ebb7-4689-80a7-b1924db892ee",
        "colab": {
          "base_uri": "https://localhost:8080/"
        }
      },
      "source": [
        "#diccionarios\n",
        "alumno = {'nombre':'Juan','edad':22,'carrera':'ICO'}\n",
        "print(alumno)\n",
        "print(alumno[ 'edad'])\n",
        "alumno = {\n",
        "    'nombre':'Juan',\n",
        "    'edad':22,\n",
        "    'carrera':'ICO',\n",
        "    'direccion':{'calle':'Bosques de africa', \n",
        "                 'numero':33,\n",
        "                 'delegacion': 'Nezahualcoyotl',\n",
        "                 'estado': 15,\n",
        "                 'nombre_estado': 'Estado de Mexico'\n",
        "                 }\n",
        "    }\n",
        "print(alumno['direccion'])\n",
        "print(alumno ['direccion']['delegacion'])\n",
        "print(alumno ['direccion']['delegacion'][3:7])\n",
        "print(alumno ['direccion']['delegacion'][3:7].upper() )\n",
        "alumno['edad'] = 35\n",
        "print(alumno)\n",
        "alumno['promedio'] = 9.9\n",
        "print(alumno)\n",
        "alumno[ 'direccion']['cp'] = 17170\n",
        "print(alumno)\n",
        "alumno['materias'] ={'nombre':'CyP','Calificacion':10}\n",
        "print(alumno)\n",
        "\n",
        "cliente = { 'id' : 1 , 'nomnre' : 'Carlos Slim'}\n",
        "print(cliente)"
      ],
      "execution_count": 81,
      "outputs": [
        {
          "output_type": "stream",
          "text": [
            "{'nombre': 'Juan', 'edad': 22, 'carrera': 'ICO'}\n",
            "22\n",
            "{'calle': 'Bosques de africa', 'numero': 33, 'delegacion': 'Nezahualcoyotl', 'estado': 15, 'nombre_estado': 'Estado de Mexico'}\n",
            "Nezahualcoyotl\n",
            "ahua\n",
            "AHUA\n",
            "{'nombre': 'Juan', 'edad': 35, 'carrera': 'ICO', 'direccion': {'calle': 'Bosques de africa', 'numero': 33, 'delegacion': 'Nezahualcoyotl', 'estado': 15, 'nombre_estado': 'Estado de Mexico'}}\n",
            "{'nombre': 'Juan', 'edad': 35, 'carrera': 'ICO', 'direccion': {'calle': 'Bosques de africa', 'numero': 33, 'delegacion': 'Nezahualcoyotl', 'estado': 15, 'nombre_estado': 'Estado de Mexico'}, 'promedio': 9.9}\n",
            "{'nombre': 'Juan', 'edad': 35, 'carrera': 'ICO', 'direccion': {'calle': 'Bosques de africa', 'numero': 33, 'delegacion': 'Nezahualcoyotl', 'estado': 15, 'nombre_estado': 'Estado de Mexico', 'cp': 17170}, 'promedio': 9.9}\n",
            "{'nombre': 'Juan', 'edad': 35, 'carrera': 'ICO', 'direccion': {'calle': 'Bosques de africa', 'numero': 33, 'delegacion': 'Nezahualcoyotl', 'estado': 15, 'nombre_estado': 'Estado de Mexico', 'cp': 17170}, 'promedio': 9.9, 'materias': {'nombre': 'CyP', 'Calificacion': 10}}\n",
            "{'id': 1, 'nomnre': 'Carlos Slim'}\n"
          ],
          "name": "stdout"
        }
      ]
    }
  ]
}