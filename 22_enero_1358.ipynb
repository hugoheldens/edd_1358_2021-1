{
  "nbformat": 4,
  "nbformat_minor": 0,
  "metadata": {
    "colab": {
      "name": "22_enero_1358.ipynb",
      "provenance": [],
      "authorship_tag": "ABX9TyPFy66PTGGuOpLUg74ITKg9",
      "include_colab_link": true
    },
    "kernelspec": {
      "name": "python3",
      "display_name": "Python 3"
    }
  },
  "cells": [
    {
      "cell_type": "markdown",
      "metadata": {
        "id": "view-in-github",
        "colab_type": "text"
      },
      "source": [
        "<a href=\"https://colab.research.google.com/github/hugoheldens/edd_1358_2021-1/blob/master/22_enero_1358.ipynb\" target=\"_parent\"><img src=\"https://colab.research.google.com/assets/colab-badge.svg\" alt=\"Open In Colab\"/></a>"
      ]
    },
    {
      "cell_type": "code",
      "metadata": {
        "id": "88cGd61XOBKB"
      },
      "source": [
        "class NodoArbol:\r\n",
        "  def __init__(self, value, left = None, right = None):\r\n",
        "    self.data = value\r\n",
        "    self.left = left\r\n",
        "    self.right = right\r\n",
        "        "
      ],
      "execution_count": 27,
      "outputs": []
    },
    {
      "cell_type": "code",
      "metadata": {
        "id": "8hW9AKGeS23d"
      },
      "source": [
        "class ArbolBinarioBusqueda:\r\n",
        "  def __init__( self ):\r\n",
        "    self.__root = None\r\n",
        "\r\n",
        "  def insert( self , value):\r\n",
        "    if self.__root == None:\r\n",
        "      self.__root = NodoArbol(value)\r\n",
        "    else:\r\n",
        "      self.__insert__( self.__root , value)\r\n",
        "\r\n",
        "\r\n",
        "  def __insert__( self, nodo, value): #recursividad\r\n",
        "    if nodo.data == value:\r\n",
        "      print(\"El nodo ya existe, no se inserta: \", value)\r\n",
        "    elif value < nodo.data:\r\n",
        "      #ir a la izq\r\n",
        "      if nodo.left == None:\r\n",
        "        nodo.left = NodoArbol(value)\r\n",
        "      else:\r\n",
        "        self.__insert__( nodo.left, value)\r\n",
        "      \r\n",
        "    else:\r\n",
        "      #ir a la der\r\n",
        "      if nodo.right == None:\r\n",
        "        nodo.right = NodoArbol(value)\r\n",
        "      else:\r\n",
        "        self.__insert__(nodo.right,value)\r\n",
        "  \r\n",
        "  def transversal( self , format=\"\" ):#in, pos , pre\r\n",
        "    if format == \"in\":\r\n",
        "      #print(\"recorrido in orden\")\r\n",
        "      self.__recorrido_in(self.__root)\r\n",
        "      print(\"recorrido in orden\")\r\n",
        "    elif format == \"pre\":\r\n",
        "      #print(\"recorrido pre orden\")\r\n",
        "      self.__recorrido_pre(self.__root)\r\n",
        "      print(\"recorrido pre orden\")\r\n",
        "    elif format == \"pos\":\r\n",
        "      #print(\"recorrido pos orden\")\r\n",
        "      self.__recorrido_pos(self.__root)\r\n",
        "      print(\"recorrido pos orden\")\r\n",
        "      \r\n",
        "    else:\r\n",
        "      print(\"invalido\")\r\n",
        "\r\n",
        "  def __recorrido_in( self , nodo ):\r\n",
        "    if nodo == None:\r\n",
        "      #print(\"caso base\")\r\n",
        "      pass\r\n",
        "    else: \r\n",
        "      self.__recorrido_in( nodo.left )\r\n",
        "      print(nodo.data , end=\",\" )\r\n",
        "      self.__recorrido_in( nodo.right )\r\n",
        "  \r\n",
        "  def __recorrido_pre( self , nodo ):\r\n",
        "    if nodo == None:\r\n",
        "      #print(\"caso base\")\r\n",
        "      pass\r\n",
        "    else: \r\n",
        "      print(nodo.data , end=\",\" )\r\n",
        "      self.__recorrido_pre( nodo.left )\r\n",
        "      self.__recorrido_pre( nodo.right )\r\n",
        "      \r\n",
        "  \r\n",
        "  def __recorrido_pos( self , nodo ):\r\n",
        "    if nodo == None:\r\n",
        "      #print(\"caso base\")\r\n",
        "      pass\r\n",
        "    else: \r\n",
        "      self.__recorrido_pos( nodo.left )\r\n",
        "      self.__recorrido_pos( nodo.right )\r\n",
        "      print(nodo.data , end=\",\" )\r\n",
        "      \r\n",
        "  def search(self, value):\r\n",
        "    if self.__root == None:\r\n",
        "      print(\"Arbol vacio\")\r\n",
        "    else:\r\n",
        "      return self.__search(self.__root , value)\r\n",
        "\r\n",
        "  def __search(self,nodo):\r\n",
        "    if nodo == None:\r\n",
        "      return None\r\n",
        "\r\n",
        "    elif nodo.data == value:\r\n",
        "      return nodo\r\n",
        "\r\n",
        "    elif value < nodo.data:\r\n",
        "      print(\"ir a la izquierda\")\r\n",
        "      return self.__search(nodo.left, value)\r\n",
        "    else:\r\n",
        "      print(\"ir a la derecha\")\r\n",
        "      self.__search(nodo.right, value)"
      ],
      "execution_count": 25,
      "outputs": []
    },
    {
      "cell_type": "code",
      "metadata": {
        "colab": {
          "base_uri": "https://localhost:8080/"
        },
        "id": "pRBbt4u6dKDk",
        "outputId": "3be85a0a-14dd-446e-e12a-1472aa34bf65"
      },
      "source": [
        "abb = ArbolBinarioBusqueda()\r\n",
        "abb.insert( 50 )\r\n",
        "abb.insert( 30 )\r\n",
        "abb.insert( 60 )\r\n",
        "abb.insert( 35 )\r\n",
        "abb.insert( 89 )\r\n",
        "abb.insert( 70 )\r\n",
        "abb.insert( 1 )\r\n",
        "abb.transversal(\"in\")\r\n",
        "abb.transversal(\"pre\")\r\n",
        "abb.transversal(\"pos\")"
      ],
      "execution_count": 26,
      "outputs": [
        {
          "output_type": "stream",
          "text": [
            "1,30,35,50,60,70,89,recorrido in orden\n",
            "50,30,1,35,60,89,70,recorrido pre orden\n",
            "1,35,30,70,89,60,50,recorrido pos orden\n"
          ],
          "name": "stdout"
        }
      ]
    },
    {
      "cell_type": "code",
      "metadata": {
        "id": "IHHwnPhM87mu"
      },
      "source": [
        ""
      ],
      "execution_count": 17,
      "outputs": []
    }
  ]
}