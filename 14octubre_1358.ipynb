{
  "nbformat": 4,
  "nbformat_minor": 0,
  "metadata": {
    "colab": {
      "name": "14octubre_1358.ipynb",
      "provenance": [],
      "authorship_tag": "ABX9TyNS5vNOa9/IslIN+Jv57Q/4",
      "include_colab_link": true
    },
    "kernelspec": {
      "name": "python3",
      "display_name": "Python 3"
    }
  },
  "cells": [
    {
      "cell_type": "markdown",
      "metadata": {
        "id": "view-in-github",
        "colab_type": "text"
      },
      "source": [
        "<a href=\"https://colab.research.google.com/github/hugoheldens/edd_1358_2021-1/blob/master/14octubre_1358.ipynb\" target=\"_parent\"><img src=\"https://colab.research.google.com/assets/colab-badge.svg\" alt=\"Open In Colab\"/></a>"
      ]
    },
    {
      "cell_type": "code",
      "metadata": {
        "id": "CJ2dCIEFpRBR",
        "outputId": "bece91f4-4d8e-47bf-f73a-e7779145a905",
        "colab": {
          "base_uri": "https://localhost:8080/",
          "height": 68
        }
      },
      "source": [
        "def calcular( a, b, c):\n",
        "    x =a + (b/c)\n",
        "    return x\n",
        "\n",
        "print(calcular(5,9,3))\n",
        "print(calcular(a=5,c=3,b=9))\n",
        "\n",
        "def calcular_v2( a =10, b=20, c=5):\n",
        "    x=a+(b/c)\n",
        "    return x\n",
        "\n",
        "print(calcular_v2(c=2,a=40,b=8))\n"
      ],
      "execution_count": 7,
      "outputs": [
        {
          "output_type": "stream",
          "text": [
            "8.0\n",
            "8.0\n",
            "44.0\n"
          ],
          "name": "stdout"
        }
      ]
    },
    {
      "cell_type": "markdown",
      "metadata": {
        "id": "fGrQSHGfrthK"
      },
      "source": [
        "#Argumentos a funciones tupla *\n",
        "Se envian los argumentos en un conjunto de elementos dentro de una tupla "
      ]
    },
    {
      "cell_type": "code",
      "metadata": {
        "id": "DvxqqqXcr4uq",
        "outputId": "de9dca16-53cf-4a05-bf64-8c06a1f71c71",
        "colab": {
          "base_uri": "https://localhost:8080/",
          "height": 51
        }
      },
      "source": [
        "def calculo( *elem ):\n",
        "    print(elem)\n",
        "    x = elem[0] + (elem[1]/ elem[2] )\n",
        "    return x\n",
        "\n",
        "print(calculo(5,9,3))"
      ],
      "execution_count": 9,
      "outputs": [
        {
          "output_type": "stream",
          "text": [
            "(5, 9, 3)\n",
            "8.0\n"
          ],
          "name": "stdout"
        }
      ]
    },
    {
      "cell_type": "markdown",
      "metadata": {
        "id": "s1daA423swF_"
      },
      "source": [
        "#Argumentos como diccionario **\n",
        "\n"
      ]
    },
    {
      "cell_type": "code",
      "metadata": {
        "id": "EJB3MJJ_s1x9",
        "outputId": "b9c64160-af2e-412d-ab34-2337a71a72ad",
        "colab": {
          "base_uri": "https://localhost:8080/",
          "height": 51
        }
      },
      "source": [
        "def calculo( **elem ):\n",
        "    print(elem)\n",
        "    x = elem['a'] + ( elem['b'] / elem['c'])\n",
        "    return x\n",
        "\n",
        "print(calculo(a=5,b=9,c=3))"
      ],
      "execution_count": 12,
      "outputs": [
        {
          "output_type": "stream",
          "text": [
            "{'a': 5, 'b': 9, 'c': 3}\n",
            "8.0\n"
          ],
          "name": "stdout"
        }
      ]
    }
  ]
}