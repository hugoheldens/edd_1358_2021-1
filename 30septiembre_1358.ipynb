{
  "nbformat": 4,
  "nbformat_minor": 0,
  "metadata": {
    "colab": {
      "name": "30septiembre_1358.ipynb",
      "provenance": [],
      "authorship_tag": "ABX9TyMsNeOcmDJ02+VzD2cuBMl/",
      "include_colab_link": true
    },
    "kernelspec": {
      "name": "python3",
      "display_name": "Python 3"
    }
  },
  "cells": [
    {
      "cell_type": "markdown",
      "metadata": {
        "id": "view-in-github",
        "colab_type": "text"
      },
      "source": [
        "<a href=\"https://colab.research.google.com/github/hugoheldens/edd_1358_2021-1/blob/master/30septiembre_1358.ipynb\" target=\"_parent\"><img src=\"https://colab.research.google.com/assets/colab-badge.svg\" alt=\"Open In Colab\"/></a>"
      ]
    },
    {
      "cell_type": "code",
      "metadata": {
        "id": "jM8cuVx6svDq"
      },
      "source": [
        ""
      ],
      "execution_count": null,
      "outputs": []
    },
    {
      "cell_type": "markdown",
      "metadata": {
        "id": "-_x7xmyssylB"
      },
      "source": [
        ""
      ]
    },
    {
      "cell_type": "markdown",
      "metadata": {
        "id": "6dZUBUGps3Y9"
      },
      "source": [
        "# Fundamentos de python 3\n",
        "## tipos de datos basicos \n",
        "edad = 13\n",
        "nombre = \" Jose\"\n",
        "estatura = 1.67\n",
        "tiene_ine = True\n",
        "\n",
        "### compuestos \n",
        "\n",
        "### Listas \n",
        "Son mutabes \n",
        "se accede a los elementos via el indice \n",
        "los elementos pueden ser de diferente tipo\n",
        "\n",
        "lista_ejemplo = [\"manzana\" , 1.57, True, [\"rojo\", \"azul]\n",
        "\n",
        "### Tuplas \n",
        "Son inmutables \n",
        "se accede a los elementos via el indice \n",
        "los elementos pueden ser de diferente tipo\n",
        "tupla_ ejemplo =(\"root\",\"123.322.45.4\",\"1234dios\"\n",
        "\n",
        "### Diccionarios\n",
        "Son equivalentes a JSON DE JS\n",
        "\n",
        "### Sets\n",
        "Son datos agrupados \n"
      ]
    },
    {
      "cell_type": "code",
      "metadata": {
        "id": "w_jLOem_uLHQ",
        "outputId": "49fc2f6b-cacb-4218-f5fd-112f56a5cc9e",
        "colab": {
          "base_uri": "https://localhost:8080/",
          "height": 231
        }
      },
      "source": [
        "lista_ejemplo = [ \"manzana\" , 1.57, True, [\"rojo\", \"azul\"] ]\n",
        "print(lista_ejemplo[1])\n",
        "print(lista_ejemplo[3])\n",
        "print(lista_ejemplo[3][1]) #para sacar el azul\n",
        "lista_ejemplo[0] = \" Manzana\" # para cambiar manzana\n",
        "print(lista_ejemplo)\n",
        "\n",
        "# agregar un elemento al final \n",
        "lista_ejemplo.append(\"iPhone\")\n",
        "print(lista_ejemplo)\n",
        "\n",
        "# Para sacar el ultimo elemento\n",
        "valor = lista_ejemplo.pop()\n",
        "print(valor)\n",
        "print(lista_ejemplo)\n",
        "\n",
        "# documentacion del tipo de dato lista dir y help\n",
        "#dir (list)\n",
        "#help(list)\n",
        "\n",
        "print(\"---------------\")\n",
        "lista_ejemplo.insert(1, 'Huawei')\n",
        "print(lista_ejemplo)\n",
        "\n",
        "conteo = lista_ejemplo.count(\"Huawei\")\n",
        "print(conteo)\n",
        "\n",
        "colores = ['rosa', 'fucsia', 'negro']\n",
        "lista_ejemplo.append(colores)\n",
        "\n",
        "print(lista_ejemplo)\n",
        "\n",
        "# con extends fusiona dos listas \n",
        "lista_ejemplo.extend(colores)\n",
        "print(lista_ejemplo)"
      ],
      "execution_count": 21,
      "outputs": [
        {
          "output_type": "error",
          "ename": "TypeError",
          "evalue": "ignored",
          "traceback": [
            "\u001b[0;31m---------------------------------------------------------------------------\u001b[0m",
            "\u001b[0;31mTypeError\u001b[0m                                 Traceback (most recent call last)",
            "\u001b[0;32m<ipython-input-21-11db1be54081>\u001b[0m in \u001b[0;36m<module>\u001b[0;34m()\u001b[0m\n\u001b[1;32m      1\u001b[0m \u001b[0mlista_ejemplo\u001b[0m \u001b[0;34m=\u001b[0m \u001b[0;34m[\u001b[0m \u001b[0;34m\"manzana\"\u001b[0m \u001b[0;34m,\u001b[0m \u001b[0;36m1.57\u001b[0m\u001b[0;34m,\u001b[0m \u001b[0;32mTrue\u001b[0m\u001b[0;34m,\u001b[0m \u001b[0;34m[\u001b[0m\u001b[0;34m\"rojo\"\u001b[0m\u001b[0;34m,\u001b[0m \u001b[0;34m\"azul\"\u001b[0m\u001b[0;34m]\u001b[0m \u001b[0;34m]\u001b[0m\u001b[0;34m\u001b[0m\u001b[0;34m\u001b[0m\u001b[0m\n\u001b[0;32m----> 2\u001b[0;31m \u001b[0mprint\u001b[0m\u001b[0;34m(\u001b[0m\u001b[0mlista_ejemplo\u001b[0m\u001b[0;34m[\u001b[0m\u001b[0;36m1\u001b[0m\u001b[0;34m]\u001b[0m\u001b[0;34m)\u001b[0m\u001b[0;34m\u001b[0m\u001b[0;34m\u001b[0m\u001b[0m\n\u001b[0m\u001b[1;32m      3\u001b[0m \u001b[0mprint\u001b[0m\u001b[0;34m(\u001b[0m\u001b[0mlista_ejemplo\u001b[0m\u001b[0;34m[\u001b[0m\u001b[0;36m3\u001b[0m\u001b[0;34m]\u001b[0m\u001b[0;34m)\u001b[0m\u001b[0;34m\u001b[0m\u001b[0;34m\u001b[0m\u001b[0m\n\u001b[1;32m      4\u001b[0m \u001b[0mprint\u001b[0m\u001b[0;34m(\u001b[0m\u001b[0mlista_ejemplo\u001b[0m\u001b[0;34m[\u001b[0m\u001b[0;36m3\u001b[0m\u001b[0;34m]\u001b[0m\u001b[0;34m[\u001b[0m\u001b[0;36m1\u001b[0m\u001b[0;34m]\u001b[0m\u001b[0;34m)\u001b[0m \u001b[0;31m#para sacar el azul\u001b[0m\u001b[0;34m\u001b[0m\u001b[0;34m\u001b[0m\u001b[0m\n\u001b[1;32m      5\u001b[0m \u001b[0mlista_ejemplo\u001b[0m\u001b[0;34m[\u001b[0m\u001b[0;36m0\u001b[0m\u001b[0;34m]\u001b[0m \u001b[0;34m=\u001b[0m \u001b[0;34m\" Manzana\"\u001b[0m \u001b[0;31m# para cambiar manzana\u001b[0m\u001b[0;34m\u001b[0m\u001b[0;34m\u001b[0m\u001b[0m\n",
            "\u001b[0;31mTypeError\u001b[0m: 'int' object is not callable"
          ]
        }
      ]
    }
  ]
}