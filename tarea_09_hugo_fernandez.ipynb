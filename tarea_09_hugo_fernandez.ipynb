{
  "nbformat": 4,
  "nbformat_minor": 0,
  "metadata": {
    "colab": {
      "name": "tarea_09_hugo_fernandez.ipynb",
      "provenance": [],
      "authorship_tag": "ABX9TyOHcjtavI7FoL26uJIOs8rt",
      "include_colab_link": true
    },
    "kernelspec": {
      "name": "python3",
      "display_name": "Python 3"
    }
  },
  "cells": [
    {
      "cell_type": "markdown",
      "metadata": {
        "id": "view-in-github",
        "colab_type": "text"
      },
      "source": [
        "<a href=\"https://colab.research.google.com/github/hugoheldens/edd_1358_2021-1/blob/master/tarea_09_hugo_fernandez.ipynb\" target=\"_parent\"><img src=\"https://colab.research.google.com/assets/colab-badge.svg\" alt=\"Open In Colab\"/></a>"
      ]
    },
    {
      "cell_type": "code",
      "metadata": {
        "id": "iH0hCG6JQsMG"
      },
      "source": [
        "class Queue:\r\n",
        "  def __init__(self):\r\n",
        "    self.__data = list()\r\n",
        "\r\n",
        "  def is_empty(self):\r\n",
        "    return len(self.__data) == 0\r\n",
        "\r\n",
        "  def lenght(self):\r\n",
        "    return len(self.__data)\r\n",
        "\r\n",
        "  def enqueue( self, item ):\r\n",
        "    self.__data.append(item)\r\n",
        "  \r\n",
        "  def denqueue( self ):\r\n",
        "    if not self.is_empty(): #en caso de que no este vacia\r\n",
        "      return self.__data.pop(0)\r\n",
        "\r\n",
        "    else:\r\n",
        "      return None #en caso de que este vacia\r\n",
        "  \r\n",
        "  def to_string( self ):\r\n",
        "    cadena = \"\"\r\n",
        "    for elem in self.__data:\r\n",
        "      cadena = cadena + \"|\" + elem\r\n",
        "    cadena = cadena + \"|\" \r\n",
        "    return cadena"
      ],
      "execution_count": null,
      "outputs": []
    },
    {
      "cell_type": "code",
      "metadata": {
        "id": "T1XqQpQ9Qx7_"
      },
      "source": [
        ""
      ],
      "execution_count": null,
      "outputs": []
    }
  ]
}