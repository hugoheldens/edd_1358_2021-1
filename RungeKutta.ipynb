{
  "nbformat": 4,
  "nbformat_minor": 0,
  "metadata": {
    "colab": {
      "name": "RungeKutta.ipynb",
      "provenance": [],
      "authorship_tag": "ABX9TyOLOtCnTQiKXy+7PuE1Xnih",
      "include_colab_link": true
    },
    "kernelspec": {
      "name": "python3",
      "display_name": "Python 3"
    }
  },
  "cells": [
    {
      "cell_type": "markdown",
      "metadata": {
        "id": "view-in-github",
        "colab_type": "text"
      },
      "source": [
        "<a href=\"https://colab.research.google.com/github/hugoheldens/edd_1358_2021-1/blob/master/RungeKutta.ipynb\" target=\"_parent\"><img src=\"https://colab.research.google.com/assets/colab-badge.svg\" alt=\"Open In Colab\"/></a>"
      ]
    },
    {
      "cell_type": "code",
      "metadata": {
        "colab": {
          "base_uri": "https://localhost:8080/"
        },
        "id": "8crQHNZV0piP",
        "outputId": "30ed6984-0a82-4059-98b6-f5309187378f"
      },
      "source": [
        "#Definimos la ecuacion diferencial \r\n",
        "def dydx(x, y): \r\n",
        "    return ((x - y)/2)\r\n",
        "\r\n",
        "def rungeKutta(x0, y0, x, h): \r\n",
        "    n = (int)((x - x0)/h)  \r\n",
        "    # Iterarando\r\n",
        "    y = y0 \r\n",
        "    for i in range(1, n + 1): \r\n",
        "        k1 = h * dydx(x0, y) \r\n",
        "        k2 = h * dydx(x0 + 0.5 * h, y + 0.5 * k1) \r\n",
        "        k3 = h * dydx(x0 + 0.5 * h, y + 0.5 * k2) \r\n",
        "        k4 = h * dydx(x0 + h, y + k3) \r\n",
        "  \r\n",
        "        # Evaluar en y \r\n",
        "        y = y + (1.0 / 6.0)*(k1 + 2 * k2 + 2 * k3 + k4) \r\n",
        "  \r\n",
        "        # Evaluar en x \r\n",
        "        x0 = x0 + h \r\n",
        "    return y \r\n",
        " \r\n",
        "x0 = 0\r\n",
        "y = 1\r\n",
        "x = 2\r\n",
        "h = 0.2\r\n",
        "print ('El valor de y en x es:', rungeKutta(x0, y, x, h)) \r\n",
        "  "
      ],
      "execution_count": null,
      "outputs": [
        {
          "output_type": "stream",
          "text": [
            "El valor de y en x es: 1.1036393232374955\n"
          ],
          "name": "stdout"
        }
      ]
    },
    {
      "cell_type": "code",
      "metadata": {
        "colab": {
          "base_uri": "https://localhost:8080/",
          "height": 129
        },
        "id": "cklGgNKD1wq5",
        "outputId": "1dba86af-b304-4624-a212-6347fba20e72"
      },
      "source": [
        "#Definimos la ecuacion diferencial \r\n",
        "def dydx((y*x**2)-1.2*y): \r\n",
        "    return (y*x)\r\n",
        "\r\n",
        "def rungeKutta(x0, y0, x, h): \r\n",
        "    n = (int)((x + 5 )/h)  \r\n",
        "    y = y0 \r\n",
        "    for i in range(1, n + 1): \r\n",
        "        k1 = h * dydx(x0, y) \r\n",
        "        k2 = h * dydx(x0 + 0.5 * h, y + 0.5 * k1) \r\n",
        "        k3 = h * dydx(x0 + 0.5 * h, y + 0.5 * k2) \r\n",
        "        k4 = h * dydx(x0 + h, y + k3) \r\n",
        "\r\n",
        "        y = y + (1.0 / 6.0)*(k1 + 2 * k2 + 2 * k3 + k4) \r\n",
        "        x0 = x0 + h \r\n",
        "    return y \r\n",
        "\r\n",
        "x0 = 0\r\n",
        "y = 2\r\n",
        "x = 0\r\n",
        "h = 0.5\r\n",
        "print ('The value of y at x is:', rungeKutta(x0, y, x, h)) "
      ],
      "execution_count": null,
      "outputs": [
        {
          "output_type": "error",
          "ename": "SyntaxError",
          "evalue": "ignored",
          "traceback": [
            "\u001b[0;36m  File \u001b[0;32m\"<ipython-input-14-12488c71b63c>\"\u001b[0;36m, line \u001b[0;32m2\u001b[0m\n\u001b[0;31m    def dydx((y*x**2)-1.2*y):\u001b[0m\n\u001b[0m             ^\u001b[0m\n\u001b[0;31mSyntaxError\u001b[0m\u001b[0;31m:\u001b[0m invalid syntax\n"
          ]
        }
      ]
    }
  ]
}