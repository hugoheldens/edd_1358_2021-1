{
  "nbformat": 4,
  "nbformat_minor": 0,
  "metadata": {
    "colab": {
      "name": "19octubre_1358.ipynb",
      "provenance": [],
      "authorship_tag": "ABX9TyMFOnORAsFdRNzQjxE4j+bb",
      "include_colab_link": true
    },
    "kernelspec": {
      "name": "python3",
      "display_name": "Python 3"
    }
  },
  "cells": [
    {
      "cell_type": "markdown",
      "metadata": {
        "id": "view-in-github",
        "colab_type": "text"
      },
      "source": [
        "<a href=\"https://colab.research.google.com/github/hugoheldens/edd_1358_2021-1/blob/master/19octubre_1358.ipynb\" target=\"_parent\"><img src=\"https://colab.research.google.com/assets/colab-badge.svg\" alt=\"Open In Colab\"/></a>"
      ]
    },
    {
      "cell_type": "code",
      "metadata": {
        "id": "vipsYlYvZliF",
        "outputId": "672d364e-9165-4fcf-908c-a6646187679d",
        "colab": {
          "base_uri": "https://localhost:8080/",
          "height": 85
        }
      },
      "source": [
        "# read()\n",
        "archivo = open('frutas.txt','rt')\n",
        "\n",
        "\n",
        "data = archivo.read()\n",
        "print(data)\n",
        "\n",
        "archivo.close()\n",
        "\n"
      ],
      "execution_count": 6,
      "outputs": [
        {
          "output_type": "stream",
          "text": [
            "limon, aguacate, fresa, manzana\n",
            "ciruela, capulin, naranja\n",
            "pera,kiwi\n",
            "\n"
          ],
          "name": "stdout"
        }
      ]
    },
    {
      "cell_type": "code",
      "metadata": {
        "id": "vua8ZcEpcgFI",
        "outputId": "b95e57ef-c089-4caa-aebe-751aa01a0302",
        "colab": {
          "base_uri": "https://localhost:8080/",
          "height": 119
        }
      },
      "source": [
        "#readline()\n",
        "archivo = open('frutas.txt', 'rt')\n",
        "\n",
        "data = archivo.readline()\n",
        "while data != \"\":\n",
        "    print(data)\n",
        "    data =archivo.readline()\n",
        "    \n",
        "archivo.close()\n"
      ],
      "execution_count": 10,
      "outputs": [
        {
          "output_type": "stream",
          "text": [
            "limon, aguacate, fresa, manzana\n",
            "\n",
            "ciruela, capulin, naranja\n",
            "\n",
            "pera,kiwi\n",
            "\n"
          ],
          "name": "stdout"
        }
      ]
    },
    {
      "cell_type": "code",
      "metadata": {
        "id": "BDcpyWnWgC2q",
        "outputId": "ba2c70f1-54c3-4192-e74c-607606617094",
        "colab": {
          "base_uri": "https://localhost:8080/",
          "height": 71
        }
      },
      "source": [
        "# readlines()\n",
        "\n",
        "archivo = open('frutas.txt','rt')\n",
        "\n",
        "data =archivo.readlines()\n",
        "print(data)\n",
        "\n",
        "frutas=[]\n",
        "for linea in data:\n",
        "    frutas.append(linea.strip())\n",
        "frutas_final = []\n",
        "for elem in frutas:\n",
        "    for fruta in elem.split(','):\n",
        "        frutas_final.append(fruta.strip())\n",
        "\n",
        "\n",
        "print(frutas_final)\n",
        "archivo.close()\n"
      ],
      "execution_count": 16,
      "outputs": [
        {
          "output_type": "stream",
          "text": [
            "['limon, aguacate, fresa, manzana\\n', 'ciruela, capulin, naranja\\n', 'pera,kiwi\\n']\n",
            "['limon', 'aguacate', 'fresa', 'manzana', 'ciruela', 'capulin', 'naranja', 'pera', 'kiwi']\n"
          ],
          "name": "stdout"
        }
      ]
    },
    {
      "cell_type": "markdown",
      "metadata": {
        "id": "3pCPKv2plE43"
      },
      "source": [
        "#POO CON PYTHON\n",
        "- clase \n",
        "- objetos\n",
        "- atributos\n",
        "- metodos\n",
        "- metodo constructor\n",
        "- encapsulamiento(privado y publico)\n",
        "- herencia \n",
        "\n",
        "Declarar clases en python se usa la palabra reservada Class\n"
      ]
    },
    {
      "cell_type": "code",
      "metadata": {
        "id": "t6mDS0PUlqQR",
        "outputId": "a8b29084-e7a8-451b-e3f0-7db00b85576c",
        "colab": {
          "base_uri": "https://localhost:8080/",
          "height": 51
        }
      },
      "source": [
        "class Persona:\n",
        "    def __init__( self , edd, est ):\n",
        "        self.__edad = edd\n",
        "        self.__estatura = est\n",
        "\n",
        "    def to_string( self ):\n",
        "        print(f\"Edad={self.__edad}, est{self.__estatura}\")\n",
        "\n",
        "per1 = Persona(23,1.78)\n",
        "per1.to_string()\n",
        "per1.estatura = 10.4\n",
        "per1.to_string()\n"
      ],
      "execution_count": 24,
      "outputs": [
        {
          "output_type": "stream",
          "text": [
            "Edad=23, est1.78\n",
            "Edad=23, est1.78\n"
          ],
          "name": "stdout"
        }
      ]
    }
  ]
}