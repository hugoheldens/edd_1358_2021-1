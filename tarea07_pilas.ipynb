{
  "nbformat": 4,
  "nbformat_minor": 0,
  "metadata": {
    "colab": {
      "name": "tarea07_pilas.ipynb",
      "provenance": [],
      "authorship_tag": "ABX9TyPACcC7F+LSQs7I5DzzNLYt",
      "include_colab_link": true
    },
    "kernelspec": {
      "name": "python3",
      "display_name": "Python 3"
    }
  },
  "cells": [
    {
      "cell_type": "markdown",
      "metadata": {
        "id": "view-in-github",
        "colab_type": "text"
      },
      "source": [
        "<a href=\"https://colab.research.google.com/github/hugoheldens/edd_1358_2021-1/blob/master/tarea07_pilas.ipynb\" target=\"_parent\"><img src=\"https://colab.research.google.com/assets/colab-badge.svg\" alt=\"Open In Colab\"/></a>"
      ]
    },
    {
      "cell_type": "code",
      "metadata": {
        "id": "yyG_52qXTdv0"
      },
      "source": [
        "class Stack:\n",
        "  def __init__(self):\n",
        "    self.__data = []\n",
        "    self.__size = 0\n",
        "\n",
        "  def length(self):\n",
        "    return self.__size\n",
        "  \n",
        "  def is_empty(self):\n",
        "    return self.__size == 0\n",
        "\n",
        "  def pop( self ):\n",
        "    self.__size -= 1\n",
        "    return self.__data.pop()\n",
        "  \n",
        "  def peak(self):\n",
        "    return self.__data[-1]\n",
        "  \n",
        "  def push(self,value):\n",
        "    self.__data.append(value)\n",
        "    self.__size += 1\n",
        "\n",
        "  def to_string(self):\n",
        "    print(\"-------------------\")\n",
        "    for dato in self.__data[::-1]:\n",
        "      print(f\"| {dato} |\")\n",
        "      print(\"------\")"
      ],
      "execution_count": 4,
      "outputs": []
    },
    {
      "cell_type": "code",
      "metadata": {
        "colab": {
          "base_uri": "https://localhost:8080/"
        },
        "id": "SsG3fzmJTjmV",
        "outputId": "bc2df5ba-2aaa-4dfa-a901-98989e428816"
      },
      "source": [
        "#aplicaciones de la estructura Stack\n",
        "#validacion de parentesis valanceados\n",
        "\n",
        "cadena =\"b=3*(5+((4/2))))))))))9)\"\n",
        "pila  = Stack()\n",
        "pila.push(\"#\") #Caracter de pila vacia\n",
        "for elem in cadena:\n",
        "\n",
        "  if elem == \"(\":\n",
        "    pila.push(\"*\")\n",
        "  elif elem == \")\":\n",
        "\n",
        "    try: \n",
        "     pila.pop()\n",
        "    except IndexError: \n",
        "      pass\n",
        "  else:\n",
        "    pass\n",
        "\n",
        "try: \n",
        " if pila.peak() == \"#\":\n",
        "   print(\"La expresion esta balanceada en parentesis\")\n",
        " else:\n",
        "   print(\"La expresion no esta balanceada\") \n",
        "\n",
        "except IndexError:\n",
        "   print(\"La expresion no esta balanceada en parentesis tiene parentesis de cierre extras\")"
      ],
      "execution_count": 9,
      "outputs": [
        {
          "output_type": "stream",
          "text": [
            "La expresion no esta balanceada en parentesis tiene parentesis de cierre extras\n"
          ],
          "name": "stdout"
        }
      ]
    }
  ]
}