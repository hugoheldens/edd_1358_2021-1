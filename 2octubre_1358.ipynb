{
  "nbformat": 4,
  "nbformat_minor": 0,
  "metadata": {
    "colab": {
      "name": "2octubre_1358.ipynb",
      "provenance": [],
      "authorship_tag": "ABX9TyPYsI7HizrwNGIt8P1jCx2U",
      "include_colab_link": true
    },
    "kernelspec": {
      "name": "python3",
      "display_name": "Python 3"
    }
  },
  "cells": [
    {
      "cell_type": "markdown",
      "metadata": {
        "id": "view-in-github",
        "colab_type": "text"
      },
      "source": [
        "<a href=\"https://colab.research.google.com/github/hugoheldens/edd_1358_2021-1/blob/master/2octubre_1358.ipynb\" target=\"_parent\"><img src=\"https://colab.research.google.com/assets/colab-badge.svg\" alt=\"Open In Colab\"/></a>"
      ]
    },
    {
      "cell_type": "code",
      "metadata": {
        "id": "wAqlDDKU_MRa"
      },
      "source": [
        ""
      ],
      "execution_count": null,
      "outputs": []
    },
    {
      "cell_type": "markdown",
      "metadata": {
        "id": "6xs9_sJHDt2Z"
      },
      "source": [
        "# tipo de dato \n",
        "- string      str\n",
        "- enteros     int \n",
        "- numero flotante  float\n",
        "- Logico           Bool\n",
        "- Numero complejo \n",
        "- "
      ]
    },
    {
      "cell_type": "code",
      "metadata": {
        "id": "GcJjkH5GD2VC",
        "outputId": "831c8518-16d2-4f7e-f88e-1560804b68e4",
        "colab": {
          "base_uri": "https://localhost:8080/",
          "height": 170
        }
      },
      "source": [
        "#string puede emplear \"\" , '' , o \"\"\" \n",
        "universidad  = \"      universidad      nacional      autonoma      de     mexico\"\n",
        "print(universidad)\n",
        "# cuando el string es una sola palabra se usa '' -> buena practica \n",
        "carrera = 'ico'\n",
        "area = \"software\"\n",
        "division = ' division de de las ciencias fisico matematicas'\n",
        "print(carrera, area)\n",
        "print(division)\n",
        "\n",
        "#\"\"\" cuando el string incluye varios renglones \n",
        "frase = \"\"\"\n",
        "Si\n",
        "funciona, ¡¡¡no \n",
        "lo \n",
        "arregles!!!\n",
        "\"\"\"\n",
        "print(frase)"
      ],
      "execution_count": 3,
      "outputs": [
        {
          "output_type": "stream",
          "text": [
            "      universidad      nacional      autonoma      de     mexico\n",
            "ico software\n",
            " division de de las ciencias fisico matematicas\n",
            "\n",
            "Si\n",
            "funciona, ¡¡¡no \n",
            "lo \n",
            "arregles!!!\n",
            "\n"
          ],
          "name": "stdout"
        }
      ]
    },
    {
      "cell_type": "code",
      "metadata": {
        "id": "M7h7XNn8EsUF",
        "outputId": "d26b691f-d928-4174-8233-df26d8d3bc00",
        "colab": {
          "base_uri": "https://localhost:8080/",
          "height": 370
        }
      },
      "source": [
        "print(universidad.upper() )\n",
        "print(universidad)\n",
        "print(universidad.title())\n",
        "# eliminar espacios a la derecha e izquierda \\n\n",
        "universidad = universidad.strip()\n",
        "print(universidad)\n",
        "lista = universidad.split(\" \")\n",
        "print(lista)\n",
        "nueva = \"\"\n",
        "for l in lista:\n",
        "  if len(l) > 0:\n",
        "    nueva +=  l +  \" \"\n",
        "print(nueva)\n",
        "\n",
        "numeros = \"1,2,34,56,100\"\n",
        "separados = numeros.split(\" , \")\n",
        "print(separados)\n",
        "numeros_int= []\n",
        "for num in separados:\n",
        "  numeros_int.append( int(num))\n",
        "\n",
        "print(numeros_int)\n",
        "print(nueva)\n",
        "print(nueva.index(\"na \"))\n",
        "print(nueva.replace('', '_' ))\n",
        "print(nueva)\n"
      ],
      "execution_count": 4,
      "outputs": [
        {
          "output_type": "stream",
          "text": [
            "      UNIVERSIDAD      NACIONAL      AUTONOMA      DE     MEXICO\n",
            "      universidad      nacional      autonoma      de     mexico\n",
            "      Universidad      Nacional      Autonoma      De     Mexico\n",
            "universidad      nacional      autonoma      de     mexico\n",
            "['universidad', '', '', '', '', '', 'nacional', '', '', '', '', '', 'autonoma', '', '', '', '', '', 'de', '', '', '', '', 'mexico']\n",
            "universidad nacional autonoma de mexico \n",
            "['1,2,34,56,100']\n"
          ],
          "name": "stdout"
        },
        {
          "output_type": "error",
          "ename": "ValueError",
          "evalue": "ignored",
          "traceback": [
            "\u001b[0;31m---------------------------------------------------------------------------\u001b[0m",
            "\u001b[0;31mValueError\u001b[0m                                Traceback (most recent call last)",
            "\u001b[0;32m<ipython-input-4-2c70b02717a6>\u001b[0m in \u001b[0;36m<module>\u001b[0;34m()\u001b[0m\n\u001b[1;32m     18\u001b[0m \u001b[0mnumeros_int\u001b[0m\u001b[0;34m=\u001b[0m \u001b[0;34m[\u001b[0m\u001b[0;34m]\u001b[0m\u001b[0;34m\u001b[0m\u001b[0;34m\u001b[0m\u001b[0m\n\u001b[1;32m     19\u001b[0m \u001b[0;32mfor\u001b[0m \u001b[0mnum\u001b[0m \u001b[0;32min\u001b[0m \u001b[0mseparados\u001b[0m\u001b[0;34m:\u001b[0m\u001b[0;34m\u001b[0m\u001b[0;34m\u001b[0m\u001b[0m\n\u001b[0;32m---> 20\u001b[0;31m   \u001b[0mnumeros_int\u001b[0m\u001b[0;34m.\u001b[0m\u001b[0mappend\u001b[0m\u001b[0;34m(\u001b[0m \u001b[0mint\u001b[0m\u001b[0;34m(\u001b[0m\u001b[0mnum\u001b[0m\u001b[0;34m)\u001b[0m\u001b[0;34m)\u001b[0m\u001b[0;34m\u001b[0m\u001b[0;34m\u001b[0m\u001b[0m\n\u001b[0m\u001b[1;32m     21\u001b[0m \u001b[0;34m\u001b[0m\u001b[0m\n\u001b[1;32m     22\u001b[0m \u001b[0mprint\u001b[0m\u001b[0;34m(\u001b[0m\u001b[0mnumeros_int\u001b[0m\u001b[0;34m)\u001b[0m\u001b[0;34m\u001b[0m\u001b[0;34m\u001b[0m\u001b[0m\n",
            "\u001b[0;31mValueError\u001b[0m: invalid literal for int() with base 10: '1,2,34,56,100'"
          ]
        }
      ]
    },
    {
      "cell_type": "markdown",
      "metadata": {
        "id": "FeNhcIhyEyBb"
      },
      "source": [
        "# slicing \n",
        "sintaxis \n",
        "[inicio : stop : incremento ]"
      ]
    },
    {
      "cell_type": "code",
      "metadata": {
        "id": "wtDMm0uQEzLL",
        "outputId": "e88afe3c-d548-4d28-a000-ea82f1679ad3",
        "colab": {
          "base_uri": "https://localhost:8080/",
          "height": 153
        }
      },
      "source": [
        "#selector de elementos dentro de un str\n",
        "print( nueva[0] )\n",
        "nueva = nueva.strip()\n",
        "print( nueva[ len(nueva) -1]) # indexado negativo \n",
        "print(nueva[-2])\n",
        "\n",
        "# slicing\n",
        "print(nueva) \n",
        "print( nueva[ 12 : 20 : 1 ])\n",
        "print( nueva[ -6 :  : 1 ])\n",
        "#mexico al reves con slicing \n",
        "print( nueva[-1 : -7 : -1])\n",
        "\n",
        "#valores por defecto [ 0 : long de la lista : 1 ]\n",
        "\n",
        "print(nueva [::2])"
      ],
      "execution_count": 5,
      "outputs": [
        {
          "output_type": "stream",
          "text": [
            "u\n",
            "o\n",
            "c\n",
            "universidad nacional autonoma de mexico\n",
            "nacional\n",
            "mexico\n",
            "ocixem\n",
            "uiesddncoa uooad eio\n"
          ],
          "name": "stdout"
        }
      ]
    },
    {
      "cell_type": "markdown",
      "metadata": {
        "id": "qcqMm2wSE5sV"
      },
      "source": [
        "# bool\n",
        "Acepta solo dos valores \n",
        "True bool(1)\n",
        "\n",
        "False bool(0)"
      ]
    },
    {
      "cell_type": "code",
      "metadata": {
        "id": "cQa3eTOSE6jy",
        "outputId": "b598c326-6f92-4a83-84fd-c11376ec8078",
        "colab": {
          "base_uri": "https://localhost:8080/",
          "height": 85
        }
      },
      "source": [
        "print(bool(0))\n",
        "print(bool(423423))\n",
        "flag = 0\n",
        "print(bool(flag))\n",
        "print(True)"
      ],
      "execution_count": 6,
      "outputs": [
        {
          "output_type": "stream",
          "text": [
            "False\n",
            "True\n",
            "False\n",
            "True\n"
          ],
          "name": "stdout"
        }
      ]
    },
    {
      "cell_type": "markdown",
      "metadata": {
        "id": "vw2YtxLTGhDp"
      },
      "source": [
        "# comentarios \n",
        "\n",
        "para un comentario de una linea se usa #\n",
        "para un comentario de multiple linea, equivalente a /* */de java leng c se utiliza \"\"\" \"\"\""
      ]
    },
    {
      "cell_type": "code",
      "metadata": {
        "id": "xEWT60SgGkW5"
      },
      "source": [
        "# este es un comentario de linea simple\n",
        "\n",
        "\"\"\"\n",
        "Este \n",
        "es un \n",
        "comentario de \n",
        "  multiple \n",
        "    linea \n",
        "    \"\"\""
      ],
      "execution_count": null,
      "outputs": []
    },
    {
      "cell_type": "markdown",
      "metadata": {
        "id": "CL3gk1-VGoWk"
      },
      "source": [
        "# funcion Print\n",
        "hay 4 formas de usar print\n",
        "1. con comas (,)\n",
        "1. con signo + (+)\n",
        "1. con la funcion format() de la clase string \n",
        "1. con el operador f\" "
      ]
    },
    {
      "cell_type": "code",
      "metadata": {
        "id": "8RYl6_rVGrO8",
        "outputId": "a57ad6ad-8186-495f-b562-b50cf5125852",
        "colab": {
          "base_uri": "https://localhost:8080/",
          "height": 85
        }
      },
      "source": [
        "#con comas \n",
        "cantidad = 2\n",
        "precio_chetos = 8\n",
        "precio_fanta = 12\n",
        "print(cantidad,precio_chetos,precio_fanta)\n",
        "\n",
        "# con sigono solo opera con str \n",
        "print(\"hola\" + \"mundo\")\n",
        "print(cantidad + precio_chetos + precio_fanta )\n",
        "print( str(cantidad) + str(precio_chetos + precio_fanta) )"
      ],
      "execution_count": 10,
      "outputs": [
        {
          "output_type": "stream",
          "text": [
            "2 8 12\n",
            "holamundo\n",
            "22\n",
            "220\n"
          ],
          "name": "stdout"
        }
      ]
    }
  ]
}