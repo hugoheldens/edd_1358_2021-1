{
  "nbformat": 4,
  "nbformat_minor": 0,
  "metadata": {
    "colab": {
      "name": "26octubre_1358.ipynb",
      "provenance": [],
      "authorship_tag": "ABX9TyMrbkhgE9bike4DMYSG8NA6",
      "include_colab_link": true
    },
    "kernelspec": {
      "name": "python3",
      "display_name": "Python 3"
    }
  },
  "cells": [
    {
      "cell_type": "markdown",
      "metadata": {
        "id": "view-in-github",
        "colab_type": "text"
      },
      "source": [
        "<a href=\"https://colab.research.google.com/github/hugoheldens/edd_1358_2021-1/blob/master/26octubre_1358.ipynb\" target=\"_parent\"><img src=\"https://colab.research.google.com/assets/colab-badge.svg\" alt=\"Open In Colab\"/></a>"
      ]
    },
    {
      "cell_type": "code",
      "metadata": {
        "id": "2HRBR--jpcrx",
        "outputId": "e85024b9-e015-427b-f746-6d6fec77b43e",
        "colab": {
          "base_uri": "https://localhost:8080/",
          "height": 34
        }
      },
      "source": [
        "\"\"\"\n",
        "Array\n",
        "\"\"\"\n",
        "class Array:\n",
        "    def __init__(self , tam ):\n",
        "        self.__datos = [ 0 for x in range(tam) ]\n",
        "\n",
        "    def get_item( self,  index ):\n",
        "        return self.__datos[index]\n",
        "\n",
        "mi_arreglo = Array(10)\n",
        "print(mi_arreglo.get_item(2))\n"
      ],
      "execution_count": 1,
      "outputs": [
        {
          "output_type": "stream",
          "text": [
            "0\n"
          ],
          "name": "stdout"
        }
      ]
    }
  ]
}