{
  "nbformat": 4,
  "nbformat_minor": 0,
  "metadata": {
    "colab": {
      "name": "5octubre_135.ipynb",
      "provenance": [],
      "authorship_tag": "ABX9TyNz6dzFb10hD4F1QT3kHl+Q",
      "include_colab_link": true
    },
    "kernelspec": {
      "name": "python3",
      "display_name": "Python 3"
    }
  },
  "cells": [
    {
      "cell_type": "markdown",
      "metadata": {
        "id": "view-in-github",
        "colab_type": "text"
      },
      "source": [
        "<a href=\"https://colab.research.google.com/github/hugoheldens/edd_1358_2021-1/blob/master/5octubre_135.ipynb\" target=\"_parent\"><img src=\"https://colab.research.google.com/assets/colab-badge.svg\" alt=\"Open In Colab\"/></a>"
      ]
    },
    {
      "cell_type": "code",
      "metadata": {
        "id": "wqVdE-vaS3RR",
        "outputId": "246e91d2-a4a1-4a73-bca9-af0331653959",
        "colab": {
          "base_uri": "https://localhost:8080/",
          "height": 85
        }
      },
      "source": [
        "precio=12.5\n",
        "cantidad=2\n",
        "existencia=True\n",
        "\n",
        "#precio de los chetos es $12.5 y quiero 2, hay? True\n",
        "print(\"precio de los chetos es $\", precio, \"quiero\", cantidad, \", hay?\", existencia)\n",
        "# format() de la clase estr\n",
        "\n",
        "print(\"precio de los chetos es {} y quiero {} , hay?: {}\".format(precio,cantidad,existencia))\n",
        "print(\"precio de los chetos es {0} y quiero {2} , hay?: {1}\".format(precio,cantidad,existencia))\n",
        "\n",
        "#operador f\"\"\n",
        "print(f\"precio de los chetos es {precio} y quiero {cantidad} , hay?: {existencia}\")"
      ],
      "execution_count": 5,
      "outputs": [
        {
          "output_type": "stream",
          "text": [
            "precio de los chetos es $ 12.5 quiero 2 , hay? True\n",
            "precio de los chetos es 12.5 y quiero 2 , hay?: True\n",
            "precio de los chetos es 12.5 y quiero True , hay?: 2\n",
            "precio de los chetos es 12.5 y quiero 2 , hay?: True\n"
          ],
          "name": "stdout"
        }
      ]
    },
    {
      "cell_type": "markdown",
      "metadata": {
        "id": "NFL3VkQrYMIY"
      },
      "source": [
        "#Listas \n",
        "declaracion[ ]\n",
        "\n",
        "Selector[]\n",
        "\n",
        "mutable\n",
        "#Tuplas\n",
        "delaracion () \n",
        "\n",
        "selector [ ]\n",
        "\n",
        "No mutable \n",
        "\n",
        "#Diccinarios\n",
        "Conjunto de datos en pares de llaves:valor\n",
        "son mutables\n",
        "equivalentes a los objetos JSON.\n",
        "\n",
        "\n",
        "#Conjuntos\n",
        "Grupode elementos con la teoria de conjuntos \n",
        "operaciones de conjuntos.\n",
        " \n"
      ]
    },
    {
      "cell_type": "code",
      "metadata": {
        "id": "aA6f8-yUZZJB",
        "outputId": "ab3c93e2-9da4-4934-a30f-3077f08280a4",
        "colab": {
          "base_uri": "https://localhost:8080/",
          "height": 425
        }
      },
      "source": [
        "#Listas \n",
        "materias = [\"CyP\", \"DAA\", \"EDD\", \"IS\", \"POO\"]\n",
        "print(materias)\n",
        "\n",
        "#para imprimir EDD\n",
        "print( materias[2] )\n",
        "print(materias[-1])\n",
        "print(materias[4])\n",
        "#en orden inverso\n",
        "print( materias[::-1]) #concepto de slicing\n",
        "\n",
        "#crear listas a partir de split\n",
        "fecha = \"05/octubre/2020\"\n",
        "lista_fecha = fecha.split(\"/\")\n",
        "print(lista_fecha)\n",
        "#crar un string a partir de una lista \n",
        "lista_hora =[\"15\",\"22\",\"45\"]\n",
        "hora = \":\".join(lista_hora)#join itera sobre el elemento\n",
        "print(hora)\n",
        "print(\"----------------------\")\n",
        "print(materias)\n",
        "print(lista_fecha)\n",
        "print(lista_hora)\n",
        "\n",
        "materias[0] = \"Computadoras y programacion\"\n",
        "print(materias)\n",
        "#mutables agregar\n",
        "materias.append(\"Calidad\")\n",
        "print(materias)\n",
        "#paara poner en una posicion especifica\n",
        "materias.insert(2,\"Emprendimiento\")\n",
        "print(materias)\n",
        "materia = materias.pop()\n",
        "print(materia)\n",
        "print(materias)\n",
        "materia = materias.pop(1)\n",
        "print(materia)\n",
        "print(materias)\n",
        "#vaciar una lista\n",
        "materias.clear()\n",
        "print(materias)\n",
        "#slicing[::]\n",
        "print(\"Slicing\")\n",
        "numeros = [0,1,2,3,4,5,6,7,8,9,10]\n",
        "print(numeros)\n",
        "print(numeros [4:9:1])\n",
        "print(numeros [4:9])\n",
        "\n",
        "#sustituir un segmento con slicing [0,1,2,3,-2,9,10]\n",
        "numeros[4:9:1] = [-2]#selecciona un elemento de lista y lo sustituye\n",
        "print(numeros) "
      ],
      "execution_count": 34,
      "outputs": [
        {
          "output_type": "stream",
          "text": [
            "['CyP', 'DAA', 'EDD', 'IS', 'POO']\n",
            "EDD\n",
            "POO\n",
            "POO\n",
            "['POO', 'IS', 'EDD', 'DAA', 'CyP']\n",
            "['05', 'octubre', '2020']\n",
            "15:22:45\n",
            "----------------------\n",
            "['CyP', 'DAA', 'EDD', 'IS', 'POO']\n",
            "['05', 'octubre', '2020']\n",
            "['15', '22', '45']\n",
            "['Computadoras y programacion', 'DAA', 'EDD', 'IS', 'POO']\n",
            "['Computadoras y programacion', 'DAA', 'EDD', 'IS', 'POO', 'Calidad']\n",
            "['Computadoras y programacion', 'DAA', 'Emprendimiento', 'EDD', 'IS', 'POO', 'Calidad']\n",
            "Calidad\n",
            "['Computadoras y programacion', 'DAA', 'Emprendimiento', 'EDD', 'IS', 'POO']\n",
            "DAA\n",
            "['Computadoras y programacion', 'Emprendimiento', 'EDD', 'IS', 'POO']\n",
            "[]\n",
            "Slicing\n",
            "[0, 1, 2, 3, 4, 5, 6, 7, 8, 9, 10]\n",
            "[4, 5, 6, 7, 8]\n",
            "[4, 5, 6, 7, 8]\n",
            "[0, 1, 2, 3, -2, 9, 10]\n"
          ],
          "name": "stdout"
        }
      ]
    },
    {
      "cell_type": "code",
      "metadata": {
        "id": "TB1PlVzEaOhY",
        "outputId": "6360469b-c840-4a10-8800-5a489b393c0b",
        "colab": {
          "base_uri": "https://localhost:8080/",
          "height": 71
        }
      },
      "source": [
        "autos = [\"Mazda\", \"honda\",\"Akura\",\"Ford\",\"VW\"]\n",
        "telefonos = [\"iPhone\",\"Huawei Mate 30\", \"Xiaomi s10\", \"Alacatel t1000\"]\n",
        "sistemas_operativos= [\"Windoows\", \"Linux\", \"Android\", \"iOS\", \"MacOS\"]\n",
        "lista_2d =[autos, telefonos, sistemas_operativos]\n",
        "print(lista_2d)\n",
        "print(lista_2d[1][1])\n"
      ],
      "execution_count": 37,
      "outputs": [
        {
          "output_type": "stream",
          "text": [
            "[['Mazda', 'honda', 'Akura', 'Ford', 'VW'], ['iPhone', 'Huawei Mate 30', 'Xiaomi s10', 'Alacatel t1000'], ['Windoows', 'Linux', 'Android', 'iOS', 'MacOS']]\n",
            "Huawei Mate 30\n"
          ],
          "name": "stdout"
        }
      ]
    }
  ]
}