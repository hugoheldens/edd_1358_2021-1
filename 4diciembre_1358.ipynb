{
  "nbformat": 4,
  "nbformat_minor": 0,
  "metadata": {
    "colab": {
      "name": "4diciembre_1358.ipynb",
      "provenance": [],
      "authorship_tag": "ABX9TyMR3+T0aB7PDHdza5ueIgYm",
      "include_colab_link": true
    },
    "kernelspec": {
      "name": "python3",
      "display_name": "Python 3"
    }
  },
  "cells": [
    {
      "cell_type": "markdown",
      "metadata": {
        "id": "view-in-github",
        "colab_type": "text"
      },
      "source": [
        "<a href=\"https://colab.research.google.com/github/hugoheldens/edd_1358_2021-1/blob/master/4diciembre_1358.ipynb\" target=\"_parent\"><img src=\"https://colab.research.google.com/assets/colab-badge.svg\" alt=\"Open In Colab\"/></a>"
      ]
    },
    {
      "cell_type": "code",
      "metadata": {
        "id": "-28VGZqzwyXT"
      },
      "source": [
        "\"\"\"\n",
        "Array2D\n",
        "\"\"\"\n",
        "\n",
        "class Array2D:\n",
        "\n",
        "    def __init__(self,rows, cols, value):\n",
        "        self.__cols = cols\n",
        "        self.__rows = rows\n",
        "        self.__array=[[value for x in range(self.__cols)] for y in range(self.__rows)]\n",
        "\n",
        "    def to_string(self):\n",
        "        [print(\"---\",end=\"\") for x in range(self.__cols)]\n",
        "        print(\"\")\n",
        "        for ren in self.__array:\n",
        "            print(ren)\n",
        "        [print(\"---\",end=\"\") for x in range(self.__cols)]\n",
        "        print(\"\")\n",
        "\n",
        "    def get_num_rows(self):\n",
        "        return self.__rows\n",
        "\n",
        "    def get_num_cols(self):\n",
        "        return self.__cols\n",
        "\n",
        "    def get_item(self,row,col):\n",
        "        return self.__array[row][col]\n",
        "\n",
        "    def set_item( self , row , col , valor ):\n",
        "        self.__array[row][col]=valor\n",
        "\n",
        "    def clearing(self, valor=0):\n",
        "        for ren in range(self.__rows):\n",
        "            for col in range(self.__cols):\n",
        "                self.__array[ren][col]=valor"
      ],
      "execution_count": null,
      "outputs": []
    },
    {
      "cell_type": "code",
      "metadata": {
        "id": "vOvRogtxw6Cf"
      },
      "source": [
        "class Stack:\n",
        "    def __init__(self):\n",
        "        self.__data = []\n",
        "        self.__size = 0\n",
        "\n",
        "    def pop(self):\n",
        "        return self.__data.pop()\n",
        "\n",
        "    def get_size(self):\n",
        "        return self.__size\n",
        "\n",
        "    def peak(self):\n",
        "        if len(self.__data) > 0:\n",
        "            return self.__data[-1]\n",
        "        else:\n",
        "            return None\n",
        "\n",
        "    def push(self,value):\n",
        "        self.__data.append(value)\n",
        "        self.__size += 1\n",
        "\n",
        "    def to_string(self):\n",
        "        print(\"-\"*6)\n",
        "        for dato in self.__data[::-1]:\n",
        "            print(f\"| {dato} |\")\n",
        "            print(\"/\" * 6)\n",
        "        print(\"\")"
      ],
      "execution_count": 1,
      "outputs": []
    },
    {
      "cell_type": "code",
      "metadata": {
        "id": "SkjMUSstw8W-"
      },
      "source": [
        "class LaberintoADT:\n",
        "    def __init__(self , archivo):\n",
        "        self.__laberinto = Array2D(0,0,0)\n",
        "        self.__camino = Stack()\n",
        "        self.__rens =0\n",
        "        self.__cols =0\n",
        "        self.__entrada=(0,0)\n",
        "\n",
        "        entrada = open(archivo,'rt')\n",
        "        datos = entrada.readlines()\n",
        "        self.__rens = int(datos.pop(0).strip())\n",
        "        self.__cols = int(datos.pop(0).strip())\n",
        "        self.__entrada = list(datos[0].strip().split(','))\n",
        "        self.__entrada[0]=int(self.__entrada[0])\n",
        "        self.__entrada[1]=int(self.__entrada[1])\n",
        "        self.__camino.push(tuple(self.__entrada[0],self.__entrada[1]))\n",
        "\n",
        "        datos.pop(0) # eliminamos la tupla\n",
        "        print(self.__rens,self.__cols,self.__entrada)\n",
        "        print(datos)\n",
        "\n",
        "        self.__laberinto=Array2D(self.__rens,self.__cols,'1')\n",
        "        for renglon in range(self.__rens):\n",
        "            info_ren = datos[renglon].strip().split(',')\n",
        "            for columna in range(self.__cols):\n",
        "                self.__laberinto.set_item(renglon,columna,info_ren[columna])\n",
        "        \n",
        "        self.__laberinto.to_string()\n",
        "\n",
        "    def resolver(self ):\n",
        "        actual = self.__camino.peek()\n",
        "\n",
        "    def otros():\n",
        "        pass"
      ],
      "execution_count": 2,
      "outputs": []
    },
    {
      "cell_type": "code",
      "metadata": {
        "colab": {
          "base_uri": "https://localhost:8080/",
          "height": 299
        },
        "id": "wjiuTd2Lw_mv",
        "outputId": "e5dba311-3a98-49f5-c35b-5425b68c14b2"
      },
      "source": [
        "# main\n",
        "laberinto = LaberintoADT(\"entrada.txt\")"
      ],
      "execution_count": 3,
      "outputs": [
        {
          "output_type": "error",
          "ename": "NameError",
          "evalue": "ignored",
          "traceback": [
            "\u001b[0;31m---------------------------------------------------------------------------\u001b[0m",
            "\u001b[0;31mNameError\u001b[0m                                 Traceback (most recent call last)",
            "\u001b[0;32m<ipython-input-3-055b9fbcca6f>\u001b[0m in \u001b[0;36m<module>\u001b[0;34m()\u001b[0m\n\u001b[1;32m      1\u001b[0m \u001b[0;31m# main\u001b[0m\u001b[0;34m\u001b[0m\u001b[0;34m\u001b[0m\u001b[0;34m\u001b[0m\u001b[0m\n\u001b[0;32m----> 2\u001b[0;31m \u001b[0mlaberinto\u001b[0m \u001b[0;34m=\u001b[0m \u001b[0mLaberintoADT\u001b[0m\u001b[0;34m(\u001b[0m\u001b[0;34m\"entrada.txt\"\u001b[0m\u001b[0;34m)\u001b[0m\u001b[0;34m\u001b[0m\u001b[0;34m\u001b[0m\u001b[0m\n\u001b[0m",
            "\u001b[0;32m<ipython-input-2-fb68a691031b>\u001b[0m in \u001b[0;36m__init__\u001b[0;34m(self, archivo)\u001b[0m\n\u001b[1;32m      1\u001b[0m \u001b[0;32mclass\u001b[0m \u001b[0mLaberintoADT\u001b[0m\u001b[0;34m:\u001b[0m\u001b[0;34m\u001b[0m\u001b[0;34m\u001b[0m\u001b[0m\n\u001b[1;32m      2\u001b[0m     \u001b[0;32mdef\u001b[0m \u001b[0m__init__\u001b[0m\u001b[0;34m(\u001b[0m\u001b[0mself\u001b[0m \u001b[0;34m,\u001b[0m \u001b[0marchivo\u001b[0m\u001b[0;34m)\u001b[0m\u001b[0;34m:\u001b[0m\u001b[0;34m\u001b[0m\u001b[0;34m\u001b[0m\u001b[0m\n\u001b[0;32m----> 3\u001b[0;31m         \u001b[0mself\u001b[0m\u001b[0;34m.\u001b[0m\u001b[0m__laberinto\u001b[0m \u001b[0;34m=\u001b[0m \u001b[0mArray2D\u001b[0m\u001b[0;34m(\u001b[0m\u001b[0;36m0\u001b[0m\u001b[0;34m,\u001b[0m\u001b[0;36m0\u001b[0m\u001b[0;34m,\u001b[0m\u001b[0;36m0\u001b[0m\u001b[0;34m)\u001b[0m\u001b[0;34m\u001b[0m\u001b[0;34m\u001b[0m\u001b[0m\n\u001b[0m\u001b[1;32m      4\u001b[0m         \u001b[0mself\u001b[0m\u001b[0;34m.\u001b[0m\u001b[0m__camino\u001b[0m \u001b[0;34m=\u001b[0m \u001b[0mStack\u001b[0m\u001b[0;34m(\u001b[0m\u001b[0;34m)\u001b[0m\u001b[0;34m\u001b[0m\u001b[0;34m\u001b[0m\u001b[0m\n\u001b[1;32m      5\u001b[0m         \u001b[0mself\u001b[0m\u001b[0;34m.\u001b[0m\u001b[0m__rens\u001b[0m \u001b[0;34m=\u001b[0m\u001b[0;36m0\u001b[0m\u001b[0;34m\u001b[0m\u001b[0;34m\u001b[0m\u001b[0m\n",
            "\u001b[0;31mNameError\u001b[0m: name 'Array2D' is not defined"
          ]
        }
      ]
    }
  ]
}